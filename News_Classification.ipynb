{
  "nbformat": 4,
  "nbformat_minor": 0,
  "metadata": {
    "colab": {
      "name": "News Classification",
      "provenance": [],
      "collapsed_sections": [],
      "toc_visible": true,
      "machine_shape": "hm",
      "include_colab_link": true
    },
    "kernelspec": {
      "name": "python3",
      "display_name": "Python 3"
    },
    "accelerator": "GPU"
  },
  "cells": [
    {
      "cell_type": "markdown",
      "metadata": {
        "id": "view-in-github",
        "colab_type": "text"
      },
      "source": [
        "<a href=\"https://colab.research.google.com/github/SanyamOberoi/News_Classification/blob/main/News_Classification.ipynb\" target=\"_parent\"><img src=\"https://colab.research.google.com/assets/colab-badge.svg\" alt=\"Open In Colab\"/></a>"
      ]
    },
    {
      "cell_type": "markdown",
      "metadata": {
        "id": "zGCJYkQj_Uu2"
      },
      "source": [
        "<h1 align=center> News Classification</h1>"
      ]
    },
    {
      "cell_type": "markdown",
      "metadata": {
        "id": "Obch3rAuBVf0"
      },
      "source": [
        "## Install TensorFlow, TensorFlow Model Garden and other packages"
      ]
    },
    {
      "cell_type": "code",
      "metadata": {
        "colab": {
          "base_uri": "https://localhost:8080/"
        },
        "id": "Io0J35B5KVFz",
        "outputId": "f4a6c799-3e85-48b0-e552-a790a4b2784e"
      },
      "source": [
        "!pip install langdetect"
      ],
      "execution_count": 1,
      "outputs": [
        {
          "output_type": "stream",
          "text": [
            "Collecting langdetect\n",
            "\u001b[?25l  Downloading https://files.pythonhosted.org/packages/56/a3/8407c1e62d5980188b4acc45ef3d94b933d14a2ebc9ef3505f22cf772570/langdetect-1.0.8.tar.gz (981kB)\n",
            "\u001b[K     |████████████████████████████████| 983kB 5.9MB/s \n",
            "\u001b[?25hRequirement already satisfied: six in /usr/local/lib/python3.6/dist-packages (from langdetect) (1.15.0)\n",
            "Building wheels for collected packages: langdetect\n",
            "  Building wheel for langdetect (setup.py) ... \u001b[?25l\u001b[?25hdone\n",
            "  Created wheel for langdetect: filename=langdetect-1.0.8-cp36-none-any.whl size=993195 sha256=624caa9b22bf8323de04c3779915ab3a9fd8df0a6711bdec40ef6ad82f1cd9c1\n",
            "  Stored in directory: /root/.cache/pip/wheels/8d/b3/aa/6d99de9f3841d7d3d40a60ea06e6d669e8e5012e6c8b947a57\n",
            "Successfully built langdetect\n",
            "Installing collected packages: langdetect\n",
            "Successfully installed langdetect-1.0.8\n"
          ],
          "name": "stdout"
        }
      ]
    },
    {
      "cell_type": "code",
      "metadata": {
        "id": "bUQEY3dFB0jX",
        "colab": {
          "base_uri": "https://localhost:8080/"
        },
        "outputId": "262ba7e5-8848-43c1-e19b-549b97caf395"
      },
      "source": [
        "import tensorflow as tf\n",
        "print(tf.version.VERSION)"
      ],
      "execution_count": 2,
      "outputs": [
        {
          "output_type": "stream",
          "text": [
            "2.3.0\n"
          ],
          "name": "stdout"
        }
      ]
    },
    {
      "cell_type": "code",
      "metadata": {
        "id": "AFRTC-zwUy6D",
        "colab": {
          "base_uri": "https://localhost:8080/"
        },
        "outputId": "0d575eaa-27b0-4463-dd2d-a2c6bbb47651"
      },
      "source": [
        "!git clone --depth 1 -b v2.3.0 https://github.com/tensorflow/models.git"
      ],
      "execution_count": 3,
      "outputs": [
        {
          "output_type": "stream",
          "text": [
            "Cloning into 'models'...\n",
            "remote: Enumerating objects: 2650, done.\u001b[K\n",
            "remote: Counting objects: 100% (2650/2650), done.\u001b[K\n",
            "remote: Compressing objects: 100% (2319/2319), done.\u001b[K\n",
            "remote: Total 2650 (delta 511), reused 1351 (delta 298), pack-reused 0\u001b[K\n",
            "Receiving objects: 100% (2650/2650), 34.01 MiB | 34.15 MiB/s, done.\n",
            "Resolving deltas: 100% (511/511), done.\n",
            "Note: checking out '400d68abbccda2f0f6609e3a924467718b144233'.\n",
            "\n",
            "You are in 'detached HEAD' state. You can look around, make experimental\n",
            "changes and commit them, and you can discard any commits you make in this\n",
            "state without impacting any branches by performing another checkout.\n",
            "\n",
            "If you want to create a new branch to retain commits you create, you may\n",
            "do so (now or later) by using -b with the checkout command again. Example:\n",
            "\n",
            "  git checkout -b <new-branch-name>\n",
            "\n"
          ],
          "name": "stdout"
        }
      ]
    },
    {
      "cell_type": "code",
      "metadata": {
        "colab": {
          "base_uri": "https://localhost:8080/"
        },
        "id": "M5PjHeIuODYu",
        "outputId": "afc967f6-ff80-45f0-fdd5-4bb7a8bdf438"
      },
      "source": [
        "!python -m spacy download en_core_web_lg"
      ],
      "execution_count": 69,
      "outputs": [
        {
          "output_type": "stream",
          "text": [
            "Collecting en_core_web_lg==2.2.5\n",
            "\u001b[?25l  Downloading https://github.com/explosion/spacy-models/releases/download/en_core_web_lg-2.2.5/en_core_web_lg-2.2.5.tar.gz (827.9MB)\n",
            "\u001b[K     |████████████████████████████████| 827.9MB 67.5MB/s \n",
            "\u001b[?25hRequirement already satisfied: spacy>=2.2.2 in /usr/local/lib/python3.6/dist-packages (from en_core_web_lg==2.2.5) (2.2.4)\n",
            "Requirement already satisfied: catalogue<1.1.0,>=0.0.7 in /usr/local/lib/python3.6/dist-packages (from spacy>=2.2.2->en_core_web_lg==2.2.5) (1.0.0)\n",
            "Requirement already satisfied: srsly<1.1.0,>=1.0.2 in /usr/local/lib/python3.6/dist-packages (from spacy>=2.2.2->en_core_web_lg==2.2.5) (1.0.4)\n",
            "Requirement already satisfied: wasabi<1.1.0,>=0.4.0 in /usr/local/lib/python3.6/dist-packages (from spacy>=2.2.2->en_core_web_lg==2.2.5) (0.8.0)\n",
            "Requirement already satisfied: tqdm<5.0.0,>=4.38.0 in /usr/local/lib/python3.6/dist-packages (from spacy>=2.2.2->en_core_web_lg==2.2.5) (4.41.1)\n",
            "Requirement already satisfied: plac<1.2.0,>=0.9.6 in /usr/local/lib/python3.6/dist-packages (from spacy>=2.2.2->en_core_web_lg==2.2.5) (1.1.3)\n",
            "Requirement already satisfied: preshed<3.1.0,>=3.0.2 in /usr/local/lib/python3.6/dist-packages (from spacy>=2.2.2->en_core_web_lg==2.2.5) (3.0.4)\n",
            "Requirement already satisfied: murmurhash<1.1.0,>=0.28.0 in /usr/local/lib/python3.6/dist-packages (from spacy>=2.2.2->en_core_web_lg==2.2.5) (1.0.4)\n",
            "Requirement already satisfied: requests<3.0.0,>=2.13.0 in /usr/local/lib/python3.6/dist-packages (from spacy>=2.2.2->en_core_web_lg==2.2.5) (2.23.0)\n",
            "Requirement already satisfied: numpy>=1.15.0 in /usr/local/lib/python3.6/dist-packages (from spacy>=2.2.2->en_core_web_lg==2.2.5) (1.19.4)\n",
            "Requirement already satisfied: setuptools in /usr/local/lib/python3.6/dist-packages (from spacy>=2.2.2->en_core_web_lg==2.2.5) (50.3.2)\n",
            "Requirement already satisfied: blis<0.5.0,>=0.4.0 in /usr/local/lib/python3.6/dist-packages (from spacy>=2.2.2->en_core_web_lg==2.2.5) (0.4.1)\n",
            "Requirement already satisfied: thinc==7.4.0 in /usr/local/lib/python3.6/dist-packages (from spacy>=2.2.2->en_core_web_lg==2.2.5) (7.4.0)\n",
            "Requirement already satisfied: cymem<2.1.0,>=2.0.2 in /usr/local/lib/python3.6/dist-packages (from spacy>=2.2.2->en_core_web_lg==2.2.5) (2.0.4)\n",
            "Requirement already satisfied: importlib-metadata>=0.20; python_version < \"3.8\" in /usr/local/lib/python3.6/dist-packages (from catalogue<1.1.0,>=0.0.7->spacy>=2.2.2->en_core_web_lg==2.2.5) (2.0.0)\n",
            "Requirement already satisfied: chardet<4,>=3.0.2 in /usr/local/lib/python3.6/dist-packages (from requests<3.0.0,>=2.13.0->spacy>=2.2.2->en_core_web_lg==2.2.5) (3.0.4)\n",
            "Requirement already satisfied: urllib3!=1.25.0,!=1.25.1,<1.26,>=1.21.1 in /usr/local/lib/python3.6/dist-packages (from requests<3.0.0,>=2.13.0->spacy>=2.2.2->en_core_web_lg==2.2.5) (1.24.3)\n",
            "Requirement already satisfied: certifi>=2017.4.17 in /usr/local/lib/python3.6/dist-packages (from requests<3.0.0,>=2.13.0->spacy>=2.2.2->en_core_web_lg==2.2.5) (2020.11.8)\n",
            "Requirement already satisfied: idna<3,>=2.5 in /usr/local/lib/python3.6/dist-packages (from requests<3.0.0,>=2.13.0->spacy>=2.2.2->en_core_web_lg==2.2.5) (2.10)\n",
            "Requirement already satisfied: zipp>=0.5 in /usr/local/lib/python3.6/dist-packages (from importlib-metadata>=0.20; python_version < \"3.8\"->catalogue<1.1.0,>=0.0.7->spacy>=2.2.2->en_core_web_lg==2.2.5) (3.4.0)\n",
            "Building wheels for collected packages: en-core-web-lg\n",
            "  Building wheel for en-core-web-lg (setup.py) ... \u001b[?25l\u001b[?25hdone\n",
            "  Created wheel for en-core-web-lg: filename=en_core_web_lg-2.2.5-cp36-none-any.whl size=829180944 sha256=0b1da8012b18fe3c2f23015ba522ba1b69507f85c419b0e88bac249beb558953\n",
            "  Stored in directory: /tmp/pip-ephem-wheel-cache-4e46t80a/wheels/2a/c1/a6/fc7a877b1efca9bc6a089d6f506f16d3868408f9ff89f8dbfc\n",
            "Successfully built en-core-web-lg\n",
            "Installing collected packages: en-core-web-lg\n",
            "Successfully installed en-core-web-lg-2.2.5\n",
            "\u001b[38;5;2m✔ Download and installation successful\u001b[0m\n",
            "You can now load the model via spacy.load('en_core_web_lg')\n"
          ],
          "name": "stdout"
        }
      ]
    },
    {
      "cell_type": "code",
      "metadata": {
        "id": "3H2G0571zLLs",
        "colab": {
          "base_uri": "https://localhost:8080/"
        },
        "outputId": "74b1aef9-2375-4b0c-873e-8372d6e1477e"
      },
      "source": [
        "# installing requirements to use tensorflow/models repository\n",
        "# Restart the runtime once installed (any errors to be ignored)\n",
        "!pip install -Uqr models/official/requirements.txt"
      ],
      "execution_count": 4,
      "outputs": [
        {
          "output_type": "stream",
          "text": [
            "\u001b[K     |████████████████████████████████| 71kB 3.4MB/s \n",
            "\u001b[K     |████████████████████████████████| 215kB 7.5MB/s \n",
            "\u001b[K     |████████████████████████████████| 14.5MB 246kB/s \n",
            "\u001b[K     |████████████████████████████████| 471kB 48.8MB/s \n",
            "\u001b[K     |████████████████████████████████| 102kB 11.7MB/s \n",
            "\u001b[K     |████████████████████████████████| 25.9MB 125kB/s \n",
            "\u001b[K     |████████████████████████████████| 174kB 56.9MB/s \n",
            "\u001b[K     |████████████████████████████████| 3.6MB 45.8MB/s \n",
            "\u001b[K     |████████████████████████████████| 1.1MB 45.5MB/s \n",
            "\u001b[K     |████████████████████████████████| 51kB 6.2MB/s \n",
            "\u001b[K     |████████████████████████████████| 358kB 53.1MB/s \n",
            "\u001b[K     |████████████████████████████████| 1.1MB 55.6MB/s \n",
            "\u001b[K     |████████████████████████████████| 11.6MB 40.4MB/s \n",
            "\u001b[K     |████████████████████████████████| 36.7MB 65kB/s \n",
            "\u001b[K     |████████████████████████████████| 276kB 54.8MB/s \n",
            "\u001b[K     |████████████████████████████████| 2.2MB 46.5MB/s \n",
            "\u001b[K     |████████████████████████████████| 92kB 9.9MB/s \n",
            "\u001b[K     |████████████████████████████████| 51kB 6.6MB/s \n",
            "\u001b[K     |████████████████████████████████| 81kB 9.0MB/s \n",
            "\u001b[?25h  Building wheel for psutil (setup.py) ... \u001b[?25l\u001b[?25hdone\n",
            "  Building wheel for py-cpuinfo (setup.py) ... \u001b[?25l\u001b[?25hdone\n",
            "  Building wheel for pyyaml (setup.py) ... \u001b[?25l\u001b[?25hdone\n",
            "  Building wheel for proto-plus (setup.py) ... \u001b[?25l\u001b[?25hdone\n",
            "\u001b[31mERROR: tensorflow 2.3.0 has requirement numpy<1.19.0,>=1.16.0, but you'll have numpy 1.19.4 which is incompatible.\u001b[0m\n",
            "\u001b[31mERROR: tensorflow 2.3.0 has requirement scipy==1.4.1, but you'll have scipy 1.5.4 which is incompatible.\u001b[0m\n",
            "\u001b[31mERROR: pandas-gbq 0.13.3 has requirement google-cloud-bigquery[bqstorage,pandas]<2.0.0dev,>=1.11.1, but you'll have google-cloud-bigquery 2.4.0 which is incompatible.\u001b[0m\n",
            "\u001b[31mERROR: google-cloud-storage 1.18.1 has requirement google-resumable-media<0.5.0dev,>=0.3.1, but you'll have google-resumable-media 1.1.0 which is incompatible.\u001b[0m\n",
            "\u001b[31mERROR: google-api-core 1.23.0 has requirement google-auth<2.0dev,>=1.21.1, but you'll have google-auth 1.17.2 which is incompatible.\u001b[0m\n",
            "\u001b[31mERROR: datascience 0.10.6 has requirement folium==0.2.1, but you'll have folium 0.8.3 which is incompatible.\u001b[0m\n",
            "\u001b[31mERROR: albumentations 0.1.12 has requirement imgaug<0.2.7,>=0.2.5, but you'll have imgaug 0.2.9 which is incompatible.\u001b[0m\n"
          ],
          "name": "stdout"
        }
      ]
    },
    {
      "cell_type": "markdown",
      "metadata": {
        "id": "RbKXKV2Xy1wZ"
      },
      "source": [
        "## After restarting the runtime, import libraries"
      ]
    },
    {
      "cell_type": "code",
      "metadata": {
        "id": "GmqEylyFYTdP"
      },
      "source": [
        "# Importing libraries\n",
        "import numpy as np\n",
        "import pandas as pd\n",
        "import tensorflow as tf\n",
        "import tensorflow_hub as hub\n",
        "import sys\n",
        "sys.path.append('models')\n",
        "from official.nlp.data import classifier_data_lib\n",
        "from official.nlp.bert import tokenization\n",
        "from official.nlp import optimization\n",
        "from google.colab import drive\n",
        "import os\n",
        "import spacy\n",
        "from spacy.lang.en import STOP_WORDS\n",
        "# from langdetect import detect\n",
        "# from html.parser import HTMLParser\n",
        "import re\n",
        "import nltk\n",
        "from nltk.stem import WordNetLemmatizer\n",
        "from nltk.tokenize import WhitespaceTokenizer\n",
        "from tensorflow import keras\n",
        "from keras.preprocessing.text import Tokenizer\n",
        "from keras.preprocessing.sequence import pad_sequences\n",
        "from keras.models import Sequential, load_model\n",
        "from keras.layers import Dense, Embedding, LSTM, Bidirectional\n",
        "from keras.utils import to_categorical\n",
        "# from keras.callbacks import Callback,ModelCheckpoint\n",
        "import keras.backend as K\n",
        "import gensim.downloader as api\n",
        "import gzip\n",
        "import dill\n",
        "import matplotlib.pyplot as plt\n",
        "from sklearn.metrics import confusion_matrix, classification_report, f1_score\n",
        "from sklearn.model_selection import train_test_split, RandomizedSearchCV, StratifiedKFold\n",
        "from sklearn.utils.class_weight import compute_class_weight\n",
        "from sklearn.preprocessing import LabelEncoder\n",
        "from sklearn.feature_extraction.text import TfidfVectorizer\n",
        "from sklearn.pipeline import Pipeline\n",
        "from sklearn.ensemble import RandomForestClassifier"
      ],
      "execution_count": 1,
      "outputs": []
    },
    {
      "cell_type": "code",
      "metadata": {
        "id": "ZuX1lB8pPJ-W",
        "colab": {
          "base_uri": "https://localhost:8080/"
        },
        "outputId": "3bfb7c77-51ef-4d4a-8cbf-204777e0233e"
      },
      "source": [
        "print(\"TF Version: \", tf.__version__)\n",
        "print(\"Eager mode: \", tf.executing_eagerly())\n",
        "print(\"Hub version: \", hub.__version__)\n",
        "print(\"GPU is\", \"available\" if tf.config.experimental.list_physical_devices(\"GPU\") else \"NOT AVAILABLE\")"
      ],
      "execution_count": 2,
      "outputs": [
        {
          "output_type": "stream",
          "text": [
            "TF Version:  2.3.0\n",
            "Eager mode:  True\n",
            "Hub version:  0.10.0\n",
            "GPU is available\n"
          ],
          "name": "stdout"
        }
      ]
    },
    {
      "cell_type": "markdown",
      "metadata": {
        "id": "MSMj87xV1Xuq"
      },
      "source": [
        "## Reading in data"
      ]
    },
    {
      "cell_type": "code",
      "metadata": {
        "id": "Rrw3pp_xknFa",
        "colab": {
          "base_uri": "https://localhost:8080/"
        },
        "outputId": "cef07c6d-b98d-49b9-f69d-a350676f9c1c"
      },
      "source": [
        "# Uploading input datasets to drive and mounting drive\n",
        "drive.mount('/News_Classification', force_remount=True)"
      ],
      "execution_count": 3,
      "outputs": [
        {
          "output_type": "stream",
          "text": [
            "Mounted at /News_Classification\n"
          ],
          "name": "stdout"
        }
      ]
    },
    {
      "cell_type": "code",
      "metadata": {
        "id": "yeHE98KiMvDd"
      },
      "source": [
        "# Reading in input datasets\n",
        "news_details = pd.read_excel('/News_Classification/My Drive/News_Classification/news_details.xlsx')\n",
        "categories = pd.read_csv('/News_Classification/My Drive/News_Classification/categories.csv')\n",
        "category_mapping = pd.read_excel('/News_Classification/My Drive/News_Classification/category_mapping.xlsx')"
      ],
      "execution_count": 4,
      "outputs": []
    },
    {
      "cell_type": "code",
      "metadata": {
        "colab": {
          "base_uri": "https://localhost:8080/"
        },
        "id": "QHujguC9Nonf",
        "outputId": "3d166527-a991-4d22-b894-af38155051ca"
      },
      "source": [
        "print(\"News Details data shape: {}\".format(news_details.shape))\n",
        "print(\"Categories data shape: {}\".format(categories.shape))\n",
        "print(\"Category Mapping data shape: {}\".format(category_mapping.shape))"
      ],
      "execution_count": 5,
      "outputs": [
        {
          "output_type": "stream",
          "text": [
            "News Details data shape: (3544, 4)\n",
            "Categories data shape: (7, 2)\n",
            "Category Mapping data shape: (3544, 2)\n"
          ],
          "name": "stdout"
        }
      ]
    },
    {
      "cell_type": "markdown",
      "metadata": {
        "id": "Ieg07PdWu5t_"
      },
      "source": [
        "### Cleaning and merging data"
      ]
    },
    {
      "cell_type": "code",
      "metadata": {
        "colab": {
          "base_uri": "https://localhost:8080/"
        },
        "id": "XT6fr4XuOCBN",
        "outputId": "5d40c036-80bb-49b6-ec19-fe5a257027f9"
      },
      "source": [
        "# Removing duplicate entries from data\n",
        "news_details = news_details.drop_duplicates()\n",
        "news_details = news_details.reset_index(drop=True)\n",
        "news_details.shape"
      ],
      "execution_count": 6,
      "outputs": [
        {
          "output_type": "execute_result",
          "data": {
            "text/plain": [
              "(2720, 4)"
            ]
          },
          "metadata": {
            "tags": []
          },
          "execution_count": 6
        }
      ]
    },
    {
      "cell_type": "code",
      "metadata": {
        "colab": {
          "base_uri": "https://localhost:8080/"
        },
        "id": "946mk8R2zzuT",
        "outputId": "6154e324-2d39-4dff-d5a5-1418a99208d9"
      },
      "source": [
        "# Keeping those records among duplicate news articles that have more fields populated\n",
        "news_details.sort_values(by=['news_id','snippet','title','news_description'],ascending=[True,False,False,False],inplace=True)\n",
        "news_details_df = news_details.drop_duplicates(subset=['news_id'],keep='first')\n",
        "news_details_df = news_details_df.reset_index(drop=True)\n",
        "news_details_df.shape"
      ],
      "execution_count": 7,
      "outputs": [
        {
          "output_type": "execute_result",
          "data": {
            "text/plain": [
              "(2635, 4)"
            ]
          },
          "metadata": {
            "tags": []
          },
          "execution_count": 7
        }
      ]
    },
    {
      "cell_type": "code",
      "metadata": {
        "colab": {
          "base_uri": "https://localhost:8080/"
        },
        "id": "kchD0Z-fOBwQ",
        "outputId": "fd7e8bec-ed59-4bd3-9f5b-09cd1cafd5a2"
      },
      "source": [
        "# Removing duplicates from category_mapping file\n",
        "category_mapping = category_mapping.drop_duplicates()\n",
        "category_mapping = category_mapping.reset_index(drop=True)\n",
        "category_mapping.shape"
      ],
      "execution_count": 8,
      "outputs": [
        {
          "output_type": "execute_result",
          "data": {
            "text/plain": [
              "(2636, 2)"
            ]
          },
          "metadata": {
            "tags": []
          },
          "execution_count": 8
        }
      ]
    },
    {
      "cell_type": "code",
      "metadata": {
        "colab": {
          "base_uri": "https://localhost:8080/"
        },
        "id": "_NmL-61BugUm",
        "outputId": "0b4929c2-7b37-42e8-d4f1-e51dcb3b201d"
      },
      "source": [
        "# Checking if any news article has multiple categories associated with it; found only 1 such article and filtered it out\n",
        "cat_map = category_mapping['news_id'].value_counts().reset_index(name='Count')\n",
        "mult_cat_news = cat_map.loc[cat_map['Count'] > 1,'index']\n",
        "category_mapping_df = category_mapping.loc[~category_mapping['news_id'].isin(mult_cat_news),:]\n",
        "category_mapping_df = category_mapping_df.reset_index(drop=True)\n",
        "category_mapping_df.shape"
      ],
      "execution_count": 9,
      "outputs": [
        {
          "output_type": "execute_result",
          "data": {
            "text/plain": [
              "(2634, 2)"
            ]
          },
          "metadata": {
            "tags": []
          },
          "execution_count": 9
        }
      ]
    },
    {
      "cell_type": "code",
      "metadata": {
        "colab": {
          "base_uri": "https://localhost:8080/"
        },
        "id": "WvYokqkxugYe",
        "outputId": "a8c6680e-6e38-44c6-8371-033d08d65464"
      },
      "source": [
        "# Merging the datasets\n",
        "df = pd.merge(news_details_df,category_mapping_df,on=['news_id']).merge(categories,how='left',left_on=['category_id'],right_on=['id'])\n",
        "df.shape"
      ],
      "execution_count": 10,
      "outputs": [
        {
          "output_type": "execute_result",
          "data": {
            "text/plain": [
              "(2634, 7)"
            ]
          },
          "metadata": {
            "tags": []
          },
          "execution_count": 10
        }
      ]
    },
    {
      "cell_type": "markdown",
      "metadata": {
        "id": "epHRioGWBvAc"
      },
      "source": [
        "### Exploratory Data Analysis"
      ]
    },
    {
      "cell_type": "code",
      "metadata": {
        "colab": {
          "base_uri": "https://localhost:8080/"
        },
        "id": "umE5nYCwIb8Z",
        "outputId": "120213b8-7606-493e-c3e5-b90fa29c2b9e"
      },
      "source": [
        "# Checking for null values in dataset\n",
        "df.info()"
      ],
      "execution_count": 11,
      "outputs": [
        {
          "output_type": "stream",
          "text": [
            "<class 'pandas.core.frame.DataFrame'>\n",
            "Int64Index: 2634 entries, 0 to 2633\n",
            "Data columns (total 7 columns):\n",
            " #   Column            Non-Null Count  Dtype \n",
            "---  ------            --------------  ----- \n",
            " 0   news_id           2634 non-null   object\n",
            " 1   snippet           2629 non-null   object\n",
            " 2   title             2634 non-null   object\n",
            " 3   news_description  2533 non-null   object\n",
            " 4   category_id       2634 non-null   int64 \n",
            " 5   id                2634 non-null   int64 \n",
            " 6   category          2634 non-null   object\n",
            "dtypes: int64(2), object(5)\n",
            "memory usage: 164.6+ KB\n"
          ],
          "name": "stdout"
        }
      ]
    },
    {
      "cell_type": "code",
      "metadata": {
        "colab": {
          "base_uri": "https://localhost:8080/",
          "height": 314
        },
        "id": "xqkFy5_gIb_5",
        "outputId": "f442d57a-4a65-47b4-b53f-14302f5c838d"
      },
      "source": [
        "# Checking data sample\n",
        "df.sample(5)"
      ],
      "execution_count": 12,
      "outputs": [
        {
          "output_type": "execute_result",
          "data": {
            "text/html": [
              "<div>\n",
              "<style scoped>\n",
              "    .dataframe tbody tr th:only-of-type {\n",
              "        vertical-align: middle;\n",
              "    }\n",
              "\n",
              "    .dataframe tbody tr th {\n",
              "        vertical-align: top;\n",
              "    }\n",
              "\n",
              "    .dataframe thead th {\n",
              "        text-align: right;\n",
              "    }\n",
              "</style>\n",
              "<table border=\"1\" class=\"dataframe\">\n",
              "  <thead>\n",
              "    <tr style=\"text-align: right;\">\n",
              "      <th></th>\n",
              "      <th>news_id</th>\n",
              "      <th>snippet</th>\n",
              "      <th>title</th>\n",
              "      <th>news_description</th>\n",
              "      <th>category_id</th>\n",
              "      <th>id</th>\n",
              "      <th>category</th>\n",
              "    </tr>\n",
              "  </thead>\n",
              "  <tbody>\n",
              "    <tr>\n",
              "      <th>1284</th>\n",
              "      <td>5cc693cc4eeb7f8811a5b1d3_google</td>\n",
              "      <td>Lehmann who has been with the company for thre...</td>\n",
              "      <td>Carlsberg Malaysia Bids Farewell To Outgoing M...</td>\n",
              "      <td>Carlsberg Malaysia is bidding farewell to its ...</td>\n",
              "      <td>4</td>\n",
              "      <td>4</td>\n",
              "      <td>Executive Movement</td>\n",
              "    </tr>\n",
              "    <tr>\n",
              "      <th>880</th>\n",
              "      <td>5cc01537885ddf4b704963cd_google</td>\n",
              "      <td>As part of the agreement, NTT Communications i...</td>\n",
              "      <td>SkyKick Partners with NTT Communications to Dr...</td>\n",
              "      <td>SEATTLE, April 23, 2019 (GLOBE NEWSWIRE) -- Sk...</td>\n",
              "      <td>7</td>\n",
              "      <td>7</td>\n",
              "      <td>Partnerships</td>\n",
              "    </tr>\n",
              "    <tr>\n",
              "      <th>311</th>\n",
              "      <td>5cb7e7884f646938b16d4819_google</td>\n",
              "      <td>Marcus Hotels &amp; Resorts, a division of The Mar...</td>\n",
              "      <td>Marcus Hotels adds Hyatt Regency to management...</td>\n",
              "      <td>Marcus Hotels &amp; Resorts, a division of The Mar...</td>\n",
              "      <td>5</td>\n",
              "      <td>5</td>\n",
              "      <td>Centre Setup and Expansion</td>\n",
              "    </tr>\n",
              "    <tr>\n",
              "      <th>2343</th>\n",
              "      <td>5cd3e2be29458140edcdabc1_google</td>\n",
              "      <td>McKesson Corp has appointed Tracy Faber to exe...</td>\n",
              "      <td>McKesson Corp. Appoints New Human Resources Chief</td>\n",
              "      <td>McKesson Corp has appointed Tracy Faber to exe...</td>\n",
              "      <td>4</td>\n",
              "      <td>4</td>\n",
              "      <td>Executive Movement</td>\n",
              "    </tr>\n",
              "    <tr>\n",
              "      <th>2420</th>\n",
              "      <td>5cd5548729458140ede0333f_google</td>\n",
              "      <td>NEW YORK &amp; PARIS--(BUSINESS WIRE)--. Combinati...</td>\n",
              "      <td>BlackRock Completes Acquisition of eFront -- I...</td>\n",
              "      <td>NEW YORK &amp; PARIS--(BUSINESS WIRE)--\\n\\nCombina...</td>\n",
              "      <td>2</td>\n",
              "      <td>2</td>\n",
              "      <td>Mergers and Acquisitions</td>\n",
              "    </tr>\n",
              "  </tbody>\n",
              "</table>\n",
              "</div>"
            ],
            "text/plain": [
              "                              news_id  ...                    category\n",
              "1284  5cc693cc4eeb7f8811a5b1d3_google  ...          Executive Movement\n",
              "880   5cc01537885ddf4b704963cd_google  ...                Partnerships\n",
              "311   5cb7e7884f646938b16d4819_google  ...  Centre Setup and Expansion\n",
              "2343  5cd3e2be29458140edcdabc1_google  ...          Executive Movement\n",
              "2420  5cd5548729458140ede0333f_google  ...    Mergers and Acquisitions\n",
              "\n",
              "[5 rows x 7 columns]"
            ]
          },
          "metadata": {
            "tags": []
          },
          "execution_count": 12
        }
      ]
    },
    {
      "cell_type": "code",
      "metadata": {
        "colab": {
          "base_uri": "https://localhost:8080/",
          "height": 257
        },
        "id": "l4h_rM8wKCBt",
        "outputId": "acaa73db-e7ca-4f71-fcff-90f058b7b88d"
      },
      "source": [
        "# Checking for class imbalance -> counts reflect the presence of class imbalance\n",
        "df['category'].value_counts().reset_index(name='Count')"
      ],
      "execution_count": 13,
      "outputs": [
        {
          "output_type": "execute_result",
          "data": {
            "text/html": [
              "<div>\n",
              "<style scoped>\n",
              "    .dataframe tbody tr th:only-of-type {\n",
              "        vertical-align: middle;\n",
              "    }\n",
              "\n",
              "    .dataframe tbody tr th {\n",
              "        vertical-align: top;\n",
              "    }\n",
              "\n",
              "    .dataframe thead th {\n",
              "        text-align: right;\n",
              "    }\n",
              "</style>\n",
              "<table border=\"1\" class=\"dataframe\">\n",
              "  <thead>\n",
              "    <tr style=\"text-align: right;\">\n",
              "      <th></th>\n",
              "      <th>index</th>\n",
              "      <th>Count</th>\n",
              "    </tr>\n",
              "  </thead>\n",
              "  <tbody>\n",
              "    <tr>\n",
              "      <th>0</th>\n",
              "      <td>Executive Movement</td>\n",
              "      <td>676</td>\n",
              "    </tr>\n",
              "    <tr>\n",
              "      <th>1</th>\n",
              "      <td>Partnerships</td>\n",
              "      <td>600</td>\n",
              "    </tr>\n",
              "    <tr>\n",
              "      <th>2</th>\n",
              "      <td>Centre Setup and Expansion</td>\n",
              "      <td>462</td>\n",
              "    </tr>\n",
              "    <tr>\n",
              "      <th>3</th>\n",
              "      <td>Mergers and Acquisitions</td>\n",
              "      <td>376</td>\n",
              "    </tr>\n",
              "    <tr>\n",
              "      <th>4</th>\n",
              "      <td>Deals</td>\n",
              "      <td>354</td>\n",
              "    </tr>\n",
              "    <tr>\n",
              "      <th>5</th>\n",
              "      <td>Layoff</td>\n",
              "      <td>84</td>\n",
              "    </tr>\n",
              "    <tr>\n",
              "      <th>6</th>\n",
              "      <td>Mass Hiring</td>\n",
              "      <td>82</td>\n",
              "    </tr>\n",
              "  </tbody>\n",
              "</table>\n",
              "</div>"
            ],
            "text/plain": [
              "                        index  Count\n",
              "0          Executive Movement    676\n",
              "1                Partnerships    600\n",
              "2  Centre Setup and Expansion    462\n",
              "3    Mergers and Acquisitions    376\n",
              "4                       Deals    354\n",
              "5                      Layoff     84\n",
              "6                 Mass Hiring     82"
            ]
          },
          "metadata": {
            "tags": []
          },
          "execution_count": 13
        }
      ]
    },
    {
      "cell_type": "code",
      "metadata": {
        "colab": {
          "base_uri": "https://localhost:8080/"
        },
        "id": "GOFzBSRTKB-1",
        "outputId": "66113d16-38f6-4941-df6a-ccb2c3f308f9"
      },
      "source": [
        "# Checking token count in text fields -> to figure out which fields may pose constraints for certain models\n",
        "print(sum([len(str(x).split()) for x in df['snippet']])/len(df['snippet']))\n",
        "print(max([len(str(x).split()) for x in df['snippet']]))"
      ],
      "execution_count": 14,
      "outputs": [
        {
          "output_type": "stream",
          "text": [
            "23.700455580865604\n",
            "41\n"
          ],
          "name": "stdout"
        }
      ]
    },
    {
      "cell_type": "code",
      "metadata": {
        "colab": {
          "base_uri": "https://localhost:8080/"
        },
        "id": "Wv1pFfbe5dpi",
        "outputId": "0043585a-9a3a-47d7-dd77-d823a8bb6ba9"
      },
      "source": [
        "print(sum([len(str(x).split()) for x in df['title']])/len(df['title']))\n",
        "print(max([len(str(x).split()) for x in df['title']]))"
      ],
      "execution_count": 15,
      "outputs": [
        {
          "output_type": "stream",
          "text": [
            "10.975322703113136\n",
            "40\n"
          ],
          "name": "stdout"
        }
      ]
    },
    {
      "cell_type": "code",
      "metadata": {
        "colab": {
          "base_uri": "https://localhost:8080/"
        },
        "id": "jtmWt4zJ5duh",
        "outputId": "745ca461-b520-4e20-8ad9-e3ce7c2e0915"
      },
      "source": [
        "print(sum([len(str(x).split()) for x in df['news_description']])/len(df['news_description']))\n",
        "print(max([len(str(x).split()) for x in df['news_description']]))"
      ],
      "execution_count": 16,
      "outputs": [
        {
          "output_type": "stream",
          "text": [
            "413.1355353075171\n",
            "3552\n"
          ],
          "name": "stdout"
        }
      ]
    },
    {
      "cell_type": "code",
      "metadata": {
        "colab": {
          "base_uri": "https://localhost:8080/"
        },
        "id": "3WvjUsEO5_KH",
        "outputId": "8aa4e330-7811-414c-ed25-817029a294b3"
      },
      "source": [
        "# No. of records where token count for news description field > 512 (constraint for BERT-based models)\n",
        "sum(np.array([len(str(x).split()) for x in df['news_description']]) > 512)"
      ],
      "execution_count": 17,
      "outputs": [
        {
          "output_type": "execute_result",
          "data": {
            "text/plain": [
              "698"
            ]
          },
          "metadata": {
            "tags": []
          },
          "execution_count": 17
        }
      ]
    },
    {
      "cell_type": "markdown",
      "metadata": {
        "id": "n4Yn8ZK0RjbT"
      },
      "source": [
        "##### Checking if 'ORG' entity count in News title differs across categories (hypothesis: Categories such as Mergers and Acquisitions, Deals and Partnerships require multiple parties to be involved as opposed to the other 4 categories (which are linked to single org) and hence, may have a higher 'ORG' count (can serve to be a useful feature))"
      ]
    },
    {
      "cell_type": "code",
      "metadata": {
        "id": "uPydI43mNo8o"
      },
      "source": [
        "# Loading spacy's English Large model\n",
        "nlp = spacy.load(\"en_core_web_lg\")"
      ],
      "execution_count": 18,
      "outputs": []
    },
    {
      "cell_type": "code",
      "metadata": {
        "id": "YFI5l68TNpAS"
      },
      "source": [
        "# Counting 'ORG' entities in News title\n",
        "def org_count(title):\n",
        "  title = str(title)\n",
        "  doc = nlp(title)\n",
        "  cnt = 0\n",
        "  for ent in doc.ents:\n",
        "    if (ent.label_ == 'ORG'):\n",
        "      cnt += 1\n",
        "  return cnt\n",
        "\n",
        "df['title_org_count'] = df['title'].apply(lambda x: org_count(x))"
      ],
      "execution_count": 19,
      "outputs": []
    },
    {
      "cell_type": "code",
      "metadata": {
        "colab": {
          "base_uri": "https://localhost:8080/",
          "height": 287
        },
        "id": "zmGhYsqUNpIK",
        "outputId": "043901e5-e4e1-4658-abac-77d32989e956"
      },
      "source": [
        "# This shows that for the following 3 categories: Deals, Mergers and Acquisitions & Partnerships, both mean and median 'ORG' count in News title is higher as compared to that in other categories\n",
        "df.groupby(['category'])['title_org_count'].describe()"
      ],
      "execution_count": 21,
      "outputs": [
        {
          "output_type": "execute_result",
          "data": {
            "text/html": [
              "<div>\n",
              "<style scoped>\n",
              "    .dataframe tbody tr th:only-of-type {\n",
              "        vertical-align: middle;\n",
              "    }\n",
              "\n",
              "    .dataframe tbody tr th {\n",
              "        vertical-align: top;\n",
              "    }\n",
              "\n",
              "    .dataframe thead th {\n",
              "        text-align: right;\n",
              "    }\n",
              "</style>\n",
              "<table border=\"1\" class=\"dataframe\">\n",
              "  <thead>\n",
              "    <tr style=\"text-align: right;\">\n",
              "      <th></th>\n",
              "      <th>count</th>\n",
              "      <th>mean</th>\n",
              "      <th>std</th>\n",
              "      <th>min</th>\n",
              "      <th>25%</th>\n",
              "      <th>50%</th>\n",
              "      <th>75%</th>\n",
              "      <th>max</th>\n",
              "    </tr>\n",
              "    <tr>\n",
              "      <th>category</th>\n",
              "      <th></th>\n",
              "      <th></th>\n",
              "      <th></th>\n",
              "      <th></th>\n",
              "      <th></th>\n",
              "      <th></th>\n",
              "      <th></th>\n",
              "      <th></th>\n",
              "    </tr>\n",
              "  </thead>\n",
              "  <tbody>\n",
              "    <tr>\n",
              "      <th>Centre Setup and Expansion</th>\n",
              "      <td>462.0</td>\n",
              "      <td>1.136364</td>\n",
              "      <td>0.731102</td>\n",
              "      <td>0.0</td>\n",
              "      <td>1.0</td>\n",
              "      <td>1.0</td>\n",
              "      <td>2.0</td>\n",
              "      <td>4.0</td>\n",
              "    </tr>\n",
              "    <tr>\n",
              "      <th>Deals</th>\n",
              "      <td>354.0</td>\n",
              "      <td>1.649718</td>\n",
              "      <td>1.027339</td>\n",
              "      <td>0.0</td>\n",
              "      <td>1.0</td>\n",
              "      <td>2.0</td>\n",
              "      <td>2.0</td>\n",
              "      <td>7.0</td>\n",
              "    </tr>\n",
              "    <tr>\n",
              "      <th>Executive Movement</th>\n",
              "      <td>676.0</td>\n",
              "      <td>1.387574</td>\n",
              "      <td>0.886488</td>\n",
              "      <td>0.0</td>\n",
              "      <td>1.0</td>\n",
              "      <td>1.0</td>\n",
              "      <td>2.0</td>\n",
              "      <td>7.0</td>\n",
              "    </tr>\n",
              "    <tr>\n",
              "      <th>Layoff</th>\n",
              "      <td>84.0</td>\n",
              "      <td>0.952381</td>\n",
              "      <td>0.742915</td>\n",
              "      <td>0.0</td>\n",
              "      <td>0.0</td>\n",
              "      <td>1.0</td>\n",
              "      <td>1.0</td>\n",
              "      <td>3.0</td>\n",
              "    </tr>\n",
              "    <tr>\n",
              "      <th>Mass Hiring</th>\n",
              "      <td>82.0</td>\n",
              "      <td>1.097561</td>\n",
              "      <td>0.730462</td>\n",
              "      <td>0.0</td>\n",
              "      <td>1.0</td>\n",
              "      <td>1.0</td>\n",
              "      <td>1.0</td>\n",
              "      <td>4.0</td>\n",
              "    </tr>\n",
              "    <tr>\n",
              "      <th>Mergers and Acquisitions</th>\n",
              "      <td>376.0</td>\n",
              "      <td>1.638298</td>\n",
              "      <td>1.007715</td>\n",
              "      <td>0.0</td>\n",
              "      <td>1.0</td>\n",
              "      <td>2.0</td>\n",
              "      <td>2.0</td>\n",
              "      <td>8.0</td>\n",
              "    </tr>\n",
              "    <tr>\n",
              "      <th>Partnerships</th>\n",
              "      <td>600.0</td>\n",
              "      <td>1.771667</td>\n",
              "      <td>1.036656</td>\n",
              "      <td>0.0</td>\n",
              "      <td>1.0</td>\n",
              "      <td>2.0</td>\n",
              "      <td>2.0</td>\n",
              "      <td>11.0</td>\n",
              "    </tr>\n",
              "  </tbody>\n",
              "</table>\n",
              "</div>"
            ],
            "text/plain": [
              "                            count      mean       std  min  25%  50%  75%   max\n",
              "category                                                                       \n",
              "Centre Setup and Expansion  462.0  1.136364  0.731102  0.0  1.0  1.0  2.0   4.0\n",
              "Deals                       354.0  1.649718  1.027339  0.0  1.0  2.0  2.0   7.0\n",
              "Executive Movement          676.0  1.387574  0.886488  0.0  1.0  1.0  2.0   7.0\n",
              "Layoff                       84.0  0.952381  0.742915  0.0  0.0  1.0  1.0   3.0\n",
              "Mass Hiring                  82.0  1.097561  0.730462  0.0  1.0  1.0  1.0   4.0\n",
              "Mergers and Acquisitions    376.0  1.638298  1.007715  0.0  1.0  2.0  2.0   8.0\n",
              "Partnerships                600.0  1.771667  1.036656  0.0  1.0  2.0  2.0  11.0"
            ]
          },
          "metadata": {
            "tags": []
          },
          "execution_count": 21
        }
      ]
    },
    {
      "cell_type": "markdown",
      "metadata": {
        "id": "rhvhOUJpFsF3"
      },
      "source": [
        "### Data Pre-processing"
      ]
    },
    {
      "cell_type": "code",
      "metadata": {
        "id": "8hMkU_LyCE4m"
      },
      "source": [
        "# Creating WordNetLemmatizer object \n",
        "lemmatizer = WordNetLemmatizer()\n",
        "\n",
        "# Function for cleaning textual data\n",
        "def clean_text(text):\n",
        "    text = str(text)\n",
        "    \n",
        "    text = re.sub(u\"(\\u2018|\\u2019)\", \"'\", text)\n",
        "    \n",
        "    # Stripping leading and trailing whitespaces from text and lowercasing it\n",
        "    text = text.strip().lower()\n",
        "    \n",
        "    # Removing punctuations, special characters and digits\n",
        "    alpha_text = re.sub(r'[^a-zA-Z]',' ',text)\n",
        "    \n",
        "    # Removing multiple spaces\n",
        "    text_cleaned = re.sub(r'\\s+', ' ', alpha_text)\n",
        "\n",
        "    text_cleaned = text_cleaned.strip()\n",
        "    \n",
        "    return text_cleaned\n",
        "\n",
        "# Function for normalizing data\n",
        "def data_normalize(text):\n",
        "    cleaned_text = clean_text(text)\n",
        "    return ' '.join([lemmatizer.lemmatize(word) for word in cleaned_text.split()])"
      ],
      "execution_count": 32,
      "outputs": []
    },
    {
      "cell_type": "code",
      "metadata": {
        "colab": {
          "base_uri": "https://localhost:8080/"
        },
        "id": "2FG1hWxgekfh",
        "outputId": "72b2da8b-fe6d-4bf5-fd55-10dde5ff34ce"
      },
      "source": [
        "nltk.download('wordnet')"
      ],
      "execution_count": 34,
      "outputs": [
        {
          "output_type": "stream",
          "text": [
            "[nltk_data] Downloading package wordnet to /root/nltk_data...\n",
            "[nltk_data]   Unzipping corpora/wordnet.zip.\n"
          ],
          "name": "stdout"
        },
        {
          "output_type": "execute_result",
          "data": {
            "text/plain": [
              "True"
            ]
          },
          "metadata": {
            "tags": []
          },
          "execution_count": 34
        }
      ]
    },
    {
      "cell_type": "code",
      "metadata": {
        "id": "4dJStZv1CE76"
      },
      "source": [
        "# Cleaning all 3 textual fields\n",
        "df['snippet_new'] = df['snippet'].apply(lambda x: re.sub(r'\\\\xa0',' ',str(x)))\n",
        "df['snippet_cleaned'] = df['snippet_new'].apply(lambda x: data_normalize(x))\n",
        "df['title_cleaned'] = df['title'].apply(lambda x: data_normalize(x))\n",
        "df['news_description_cleaned'] = df['news_description'].apply(lambda x: data_normalize(x))"
      ],
      "execution_count": 35,
      "outputs": []
    },
    {
      "cell_type": "code",
      "metadata": {
        "id": "2QnhkkiRUAUB"
      },
      "source": [
        "# Resetting index\n",
        "df = df.reset_index(drop=True)"
      ],
      "execution_count": 36,
      "outputs": []
    },
    {
      "cell_type": "code",
      "metadata": {
        "id": "-3JdRHL1Han6"
      },
      "source": [
        "# Creating a copy of the data\n",
        "df2 = df.copy()"
      ],
      "execution_count": 125,
      "outputs": []
    },
    {
      "cell_type": "markdown",
      "metadata": {
        "id": "79IB-EyTiXR-"
      },
      "source": [
        "### Train-Validation-Test data split and Data Preparation"
      ]
    },
    {
      "cell_type": "code",
      "metadata": {
        "colab": {
          "base_uri": "https://localhost:8080/"
        },
        "id": "Wtk-HVmCinvt",
        "outputId": "a3fdf7f0-d33d-4636-c83d-1a5bafb300a1"
      },
      "source": [
        "# Building initial model using only News Title\n",
        "X = df['title_cleaned']\n",
        "y = df['category_id']\n",
        "\n",
        "# Label encoding target class values\n",
        "encoder = LabelEncoder()\n",
        "y = encoder.fit_transform(y)\n",
        "\n",
        "# Splitting the data initially into test and (train + validation)\n",
        "X_tr, X_test, y_tr, y_test = train_test_split(X, y, test_size=0.10, random_state=0, stratify=y)\n",
        "\n",
        "# Again splitting (train + validation) data into train and validation sets\n",
        "X_train, X_val, y_train, y_val = train_test_split(X_tr, y_tr, test_size=0.11, random_state=0, stratify=y_tr)\n",
        "\n",
        "print(\"Shape of train data: {}\".format((X_train.shape[0], y_train.shape[0])))\n",
        "print(\"Shape of validation data: {}\".format((X_val.shape[0], y_val.shape[0])))\n",
        "print(\"Shape of test data: {}\".format((X_test.shape[0], y_test.shape[0])))"
      ],
      "execution_count": 88,
      "outputs": [
        {
          "output_type": "stream",
          "text": [
            "Shape of train data: (2109, 2109)\n",
            "Shape of validation data: (261, 261)\n",
            "Shape of test data: (264, 264)\n"
          ],
          "name": "stdout"
        }
      ]
    },
    {
      "cell_type": "markdown",
      "metadata": {
        "id": "sPZ1pkcIMgqd"
      },
      "source": [
        "## Model-1 (Random Forest Classifier on TF-IDF vectors)"
      ]
    },
    {
      "cell_type": "code",
      "metadata": {
        "id": "NumWENzoMVpG"
      },
      "source": [
        "# Lemmatizing stopwords\n",
        "STOP_WORDS_lemma = [lemmatizer.lemmatize(word) for word in list(STOP_WORDS)]"
      ],
      "execution_count": 127,
      "outputs": []
    },
    {
      "cell_type": "code",
      "metadata": {
        "id": "VLwX_U69HbBz"
      },
      "source": [
        "# Creating White Space Tokenizer object\n",
        "tokenizer = WhitespaceTokenizer()\n",
        "\n",
        "# Lemmatizer function\n",
        "def lemmatizer_func(text):\n",
        "    return [lemmatizer.lemmatize(word) for word in tokenizer.tokenize(text)]\n",
        "\n",
        "# TF-IDF Vectorizer\n",
        "vectorizer = TfidfVectorizer(strip_accents='unicode',\n",
        "                            preprocessor=clean_text,\n",
        "                            tokenizer=lemmatizer_func,\n",
        "                            ngram_range=(1,3),\n",
        "                            stop_words=STOP_WORDS_lemma, \n",
        "                            min_df = 2, max_df = 0.5)"
      ],
      "execution_count": 128,
      "outputs": []
    },
    {
      "cell_type": "code",
      "metadata": {
        "colab": {
          "base_uri": "https://localhost:8080/"
        },
        "id": "uDEdh4nFL_y4",
        "outputId": "855f854e-ac70-44e5-bd93-858f62a95208"
      },
      "source": [
        "# Hyperparameter tuning using RandomizedSearchCV\n",
        "skf = StratifiedKFold(n_splits=5, random_state = 0)\n",
        "\n",
        "param_grid = {'n_estimators': [int(x) for x in np.linspace(100, 400, num = 50)], # randint(50,250)\n",
        "             'max_depth': [int(x) for x in np.linspace(15, 40, num = 4)], # randint(5,20)\n",
        "             'min_samples_leaf': [int(x) for x in np.linspace(25, 70, num = 5)] # ,'min_samples_split': [int(x) for x in np.linspace(80, 150, num = 10)] \n",
        "             }\n",
        "\n",
        "rf = RandomForestClassifier(n_jobs=-1, random_state=0, class_weight='balanced_subsample')\n",
        "random_search = RandomizedSearchCV(rf, n_iter=200, param_distributions=param_grid, cv=skf, scoring='f1_weighted', n_jobs=-1, random_state=0)\n",
        "\n",
        "# Building model pipeline\n",
        "pipe = Pipeline([(\"vectorizer\",vectorizer), (\"random_search\",random_search)])\n",
        "\n",
        "# Training model\n",
        "pipe.fit(X_tr,y_tr)"
      ],
      "execution_count": 136,
      "outputs": [
        {
          "output_type": "stream",
          "text": [
            "/usr/local/lib/python3.6/dist-packages/sklearn/model_selection/_split.py:296: FutureWarning: Setting a random_state has no effect since shuffle is False. This will raise an error in 0.24. You should leave random_state to its default (None), or set shuffle=True.\n",
            "  FutureWarning\n"
          ],
          "name": "stderr"
        },
        {
          "output_type": "execute_result",
          "data": {
            "text/plain": [
              "Pipeline(memory=None,\n",
              "         steps=[('vectorizer',\n",
              "                 TfidfVectorizer(analyzer='word', binary=False,\n",
              "                                 decode_error='strict',\n",
              "                                 dtype=<class 'numpy.float64'>,\n",
              "                                 encoding='utf-8', input='content',\n",
              "                                 lowercase=True, max_df=0.5, max_features=None,\n",
              "                                 min_df=2, ngram_range=(1, 3), norm='l2',\n",
              "                                 preprocessor=<function clean_text at 0x7f4f4ebabbf8>,\n",
              "                                 smooth_idf=True,\n",
              "                                 stop_words=['put', 'hence', 'been'...\n",
              "                                    iid='deprecated', n_iter=200, n_jobs=-1,\n",
              "                                    param_distributions={'max_depth': [15, 23,\n",
              "                                                                       31, 40],\n",
              "                                                         'min_samples_leaf': [25,\n",
              "                                                                              36,\n",
              "                                                                              47,\n",
              "                                                                              58,\n",
              "                                                                              70],\n",
              "                                                         'n_estimators': [100,\n",
              "                                                                          106,\n",
              "                                                                          112,\n",
              "                                                                          118,\n",
              "                                                                          124,\n",
              "                                                                          130,\n",
              "                                                                          136,\n",
              "                                                                          142,\n",
              "                                                                          148,\n",
              "                                                                          155,\n",
              "                                                                          161,\n",
              "                                                                          167,\n",
              "                                                                          173,\n",
              "                                                                          179,\n",
              "                                                                          185,\n",
              "                                                                          191,\n",
              "                                                                          197,\n",
              "                                                                          204,\n",
              "                                                                          210,\n",
              "                                                                          216,\n",
              "                                                                          222,\n",
              "                                                                          228,\n",
              "                                                                          234,\n",
              "                                                                          240,\n",
              "                                                                          246,\n",
              "                                                                          253,\n",
              "                                                                          259,\n",
              "                                                                          265,\n",
              "                                                                          271,\n",
              "                                                                          277, ...]},\n",
              "                                    pre_dispatch='2*n_jobs', random_state=0,\n",
              "                                    refit=True, return_train_score=False,\n",
              "                                    scoring='f1_weighted', verbose=0))],\n",
              "         verbose=False)"
            ]
          },
          "metadata": {
            "tags": []
          },
          "execution_count": 136
        }
      ]
    },
    {
      "cell_type": "code",
      "metadata": {
        "colab": {
          "base_uri": "https://localhost:8080/"
        },
        "id": "KO2m7_I2QVuR",
        "outputId": "19e20949-4577-4c0a-93bc-61044d032bd7"
      },
      "source": [
        "# Best parameter values\n",
        "pipe['random_search'].best_params_"
      ],
      "execution_count": 137,
      "outputs": [
        {
          "output_type": "execute_result",
          "data": {
            "text/plain": [
              "{'max_depth': 15, 'min_samples_leaf': 25, 'n_estimators': 375}"
            ]
          },
          "metadata": {
            "tags": []
          },
          "execution_count": 137
        }
      ]
    },
    {
      "cell_type": "markdown",
      "metadata": {
        "id": "9eVJMb0DPcAS"
      },
      "source": [
        "## Model-1 Performance Evaluation"
      ]
    },
    {
      "cell_type": "code",
      "metadata": {
        "colab": {
          "base_uri": "https://localhost:8080/"
        },
        "id": "NPwgE7ONL_wP",
        "outputId": "9976935f-dafb-481e-9d79-5f43522ed747"
      },
      "source": [
        "# Model-1 performance on training data\n",
        "print(classification_report(y_true = y_tr,y_pred = pipe.predict(X_tr)))\n",
        "print(confusion_matrix(y_true = y_tr,y_pred = pipe.predict(X_tr)))"
      ],
      "execution_count": 138,
      "outputs": [
        {
          "output_type": "stream",
          "text": [
            "              precision    recall  f1-score   support\n",
            "\n",
            "           0       0.13      0.68      0.22        76\n",
            "           1       0.75      0.62      0.68       338\n",
            "           2       0.32      0.50      0.39        74\n",
            "           3       0.90      0.73      0.80       608\n",
            "           4       0.77      0.72      0.74       416\n",
            "           5       0.75      0.64      0.69       318\n",
            "           6       0.80      0.64      0.71       540\n",
            "\n",
            "    accuracy                           0.67      2370\n",
            "   macro avg       0.63      0.65      0.60      2370\n",
            "weighted avg       0.77      0.67      0.71      2370\n",
            "\n",
            "[[ 52   3   5   2   9   4   1]\n",
            " [ 51 210  19   8  10  25  15]\n",
            " [ 28   0  37   1   6   0   2]\n",
            " [ 73  16  28 442  20   4  25]\n",
            " [ 53  19  11   6 298   5  24]\n",
            " [ 54  20   4   5  12 202  21]\n",
            " [ 86  11  13  28  31  28 343]]\n"
          ],
          "name": "stdout"
        }
      ]
    },
    {
      "cell_type": "code",
      "metadata": {
        "colab": {
          "base_uri": "https://localhost:8080/"
        },
        "id": "XjyjkvwyL_tE",
        "outputId": "72d6702c-921b-43f9-bb49-a37619cb0a96"
      },
      "source": [
        "# Model-1 performance on test data\n",
        "print(classification_report(y_true = y_test,y_pred = pipe.predict(X_test)))\n",
        "print(confusion_matrix(y_true = y_test,y_pred = pipe.predict(X_test)))"
      ],
      "execution_count": 139,
      "outputs": [
        {
          "output_type": "stream",
          "text": [
            "              precision    recall  f1-score   support\n",
            "\n",
            "           0       0.15      0.88      0.25         8\n",
            "           1       0.75      0.55      0.64        38\n",
            "           2       0.33      0.75      0.46         8\n",
            "           3       0.95      0.62      0.75        68\n",
            "           4       0.71      0.74      0.72        46\n",
            "           5       0.53      0.47      0.50        36\n",
            "           6       0.74      0.58      0.65        60\n",
            "\n",
            "    accuracy                           0.61       264\n",
            "   macro avg       0.60      0.66      0.57       264\n",
            "weighted avg       0.73      0.61      0.65       264\n",
            "\n",
            "[[ 7  0  0  0  1  0  0]\n",
            " [ 5 21  2  0  0  5  5]\n",
            " [ 2  0  6  0  0  0  0]\n",
            " [10  3  7 42  3  1  2]\n",
            " [ 5  1  2  0 34  2  2]\n",
            " [ 7  2  0  1  6 17  3]\n",
            " [11  1  1  1  4  7 35]]\n"
          ],
          "name": "stdout"
        }
      ]
    },
    {
      "cell_type": "markdown",
      "metadata": {
        "id": "35bYE0acRKes"
      },
      "source": [
        "### Persisting Model-1 (for later use)"
      ]
    },
    {
      "cell_type": "code",
      "metadata": {
        "id": "a8UWXNISRJkP"
      },
      "source": [
        "# Saving model\n",
        "with gzip.open('RandomForest.dill.gz','wb') as f:\n",
        "    dill.dump(pipe, f, recurse=True)"
      ],
      "execution_count": 140,
      "outputs": []
    },
    {
      "cell_type": "markdown",
      "metadata": {
        "id": "uBCHqNf5TWOd"
      },
      "source": [
        "## Model-2 (Bidirectional LSTM using pre-trained embeddings on News data)"
      ]
    },
    {
      "cell_type": "markdown",
      "metadata": {
        "id": "6CsDanbfToBc"
      },
      "source": [
        "### Data Preparation for Model-2"
      ]
    },
    {
      "cell_type": "code",
      "metadata": {
        "id": "V8RTEZTT6Hfm"
      },
      "source": [
        "# One-hot encoding the target labels\n",
        "y_train_encoded = to_categorical(y_train)\n",
        "y_val_encoded = to_categorical(y_val)\n",
        "y_test_encoded = to_categorical(y_test)"
      ],
      "execution_count": 89,
      "outputs": []
    },
    {
      "cell_type": "code",
      "metadata": {
        "colab": {
          "base_uri": "https://localhost:8080/"
        },
        "id": "IoqrOPnWfpl3",
        "outputId": "4dff5007-04a3-44e9-9d8c-09da851228a7"
      },
      "source": [
        "# Checking max input length\n",
        "max([len(x.split()) for x in X_train])"
      ],
      "execution_count": 93,
      "outputs": [
        {
          "output_type": "execute_result",
          "data": {
            "text/plain": [
              "39"
            ]
          },
          "metadata": {
            "tags": []
          },
          "execution_count": 93
        }
      ]
    },
    {
      "cell_type": "code",
      "metadata": {
        "id": "paRW6fB9iprC"
      },
      "source": [
        "# function for tokenizing and padding text sequence\n",
        "def data_prep(data_list, tokenizer, max_len):\n",
        "    data = tokenizer.texts_to_sequences(data_list)\n",
        "    data = pad_sequences(data, padding='post', maxlen=max_len)\n",
        "    return data"
      ],
      "execution_count": 94,
      "outputs": []
    },
    {
      "cell_type": "code",
      "metadata": {
        "colab": {
          "base_uri": "https://localhost:8080/"
        },
        "id": "QoGk78kJniNn",
        "outputId": "3baca940-bf08-44ca-bcb8-0de6eebd39e0"
      },
      "source": [
        "# Checking count of unique tokens in training data\n",
        "crp = []\n",
        "for record in X_train:\n",
        "  words = record.split()\n",
        "  for word in words:\n",
        "    crp.append(word)\n",
        "\n",
        "len(set(crp))"
      ],
      "execution_count": 95,
      "outputs": [
        {
          "output_type": "execute_result",
          "data": {
            "text/plain": [
              "5596"
            ]
          },
          "metadata": {
            "tags": []
          },
          "execution_count": 95
        }
      ]
    },
    {
      "cell_type": "code",
      "metadata": {
        "id": "1PofjfPPnmXD"
      },
      "source": [
        "# Tokenizing text data\n",
        "max_features = 5000 # cleaned title training data has approx 5600 unique words\n",
        "tokenizer = Tokenizer(num_words=max_features)\n",
        "tokenizer.fit_on_texts(X_train)\n",
        "\n",
        "# Tokenizing and padding train, validation and test data\n",
        "max_len = 39 # basis token count distribution of train data\n",
        "X_train_fin = data_prep(X_train, tokenizer, max_len)\n",
        "X_val_fin = data_prep(X_val, tokenizer, max_len)\n",
        "X_test_fin = data_prep(X_test, tokenizer, max_len)"
      ],
      "execution_count": 96,
      "outputs": []
    },
    {
      "cell_type": "markdown",
      "metadata": {
        "id": "mXODZLQ-pBiO"
      },
      "source": [
        "### Loading and fetching pre-trained word embeddings"
      ]
    },
    {
      "cell_type": "code",
      "metadata": {
        "id": "pwlbtJ_3pArK"
      },
      "source": [
        "# Loading pre-trained Word2Vec embeddings\n",
        "vocab_size = len(tokenizer.word_index) + 1\n",
        "embed_dim = 300\n",
        "\n",
        "model = api.load(\"word2vec-google-news-300\")"
      ],
      "execution_count": 97,
      "outputs": []
    },
    {
      "cell_type": "code",
      "metadata": {
        "colab": {
          "base_uri": "https://localhost:8080/"
        },
        "id": "td-lBlMApAu3",
        "outputId": "558813a3-7e9f-406d-faaa-652ae4b3a4a0"
      },
      "source": [
        "# Fetching word embeddings for only words present in vocab\n",
        "word_vectors = model.wv\n",
        "\n",
        "embedding_matrix = np.zeros((vocab_size, 300))\n",
        "for word, index in tokenizer.word_index.items():\n",
        "    if word in word_vectors.vocab:\n",
        "        embedding_vector = word_vectors[word]\n",
        "    else:\n",
        "        embedding_vector = None\n",
        "    if embedding_vector is not None:\n",
        "        embedding_matrix[index] = embedding_vector"
      ],
      "execution_count": 98,
      "outputs": [
        {
          "output_type": "stream",
          "text": [
            "/usr/local/lib/python3.6/dist-packages/ipykernel_launcher.py:2: DeprecationWarning: Call to deprecated `wv` (Attribute will be removed in 4.0.0, use self instead).\n",
            "  \n"
          ],
          "name": "stderr"
        }
      ]
    },
    {
      "cell_type": "code",
      "metadata": {
        "id": "18A65Ej9pAzM"
      },
      "source": [
        "# Storing embedding matrix for only the words present in vocab (helps in reducing the size)\n",
        "with gzip.open(r'embedding_matrix.dill.gz','wb') as f:\n",
        "    dill.dump(embedding_matrix,f)"
      ],
      "execution_count": 99,
      "outputs": []
    },
    {
      "cell_type": "code",
      "metadata": {
        "id": "a9WcK9oKqUVc"
      },
      "source": [
        "# Fetching stored embedding matrix for only the words present in vocab\n",
        "# with gzip.open(r'embedding_matrix.dill.gz','rb') as f:\n",
        "#     embedding_matrix = dill.load(f)"
      ],
      "execution_count": null,
      "outputs": []
    },
    {
      "cell_type": "markdown",
      "metadata": {
        "id": "qGjmhGV_gU80"
      },
      "source": [
        "### Model-2 Creation"
      ]
    },
    {
      "cell_type": "code",
      "metadata": {
        "id": "OQo5KeTfvR5-"
      },
      "source": [
        "# Writing custom metric function to be passed to the model (f1 score -> because of class imbalance)\n",
        "def get_f1(y_true, y_pred):\n",
        "    true_positives = K.sum(K.round(K.clip(y_true * y_pred, 0, 1)))\n",
        "    possible_positives = K.sum(K.round(K.clip(y_true, 0, 1)))\n",
        "    predicted_positives = K.sum(K.round(K.clip(y_pred, 0, 1)))\n",
        "\n",
        "    precision = true_positives / (predicted_positives + K.epsilon())\n",
        "    recall = true_positives / (possible_positives + K.epsilon())\n",
        "\n",
        "    f1_val = 2*(precision*recall)/(precision+recall+K.epsilon())\n",
        "    return f1_val"
      ],
      "execution_count": 100,
      "outputs": []
    },
    {
      "cell_type": "code",
      "metadata": {
        "id": "GMWmarl-fppE"
      },
      "source": [
        "# function for model creation (Bi-LSTM using Transfer Learning (Google Word2Vec embeddings trained on Google News corpus))\n",
        "def create_model(vocab_size, embed_dim, max_len, embedding_matrix):\n",
        "    lstm_out1 = 16\n",
        "\n",
        "    model = Sequential()\n",
        "    model.add(Embedding(vocab_size, embed_dim, weights=[embedding_matrix], input_length = max_len, trainable=False, name='embedding_layer')) \n",
        "    model.add(Bidirectional(LSTM(lstm_out1, dropout=0.5), merge_mode='concat', name='bi_lstm_layer1'))\n",
        "    model.add(Dense(7,activation='softmax', name='dense'))\n",
        "    model.compile(loss = 'categorical_crossentropy', optimizer='adam',metrics=['accuracy', get_f1])\n",
        "    return model"
      ],
      "execution_count": 101,
      "outputs": []
    },
    {
      "cell_type": "code",
      "metadata": {
        "colab": {
          "base_uri": "https://localhost:8080/"
        },
        "id": "JT6nzKmhfpy0",
        "outputId": "524ec0d0-6797-4a2e-aa4c-e4737ea2425f"
      },
      "source": [
        "# Creating the model\n",
        "model_fin = create_model(vocab_size, embed_dim, max_len, embedding_matrix)\n",
        "# model_fin.compile(loss = 'categorical_crossentropy', optimizer='adam',metrics=['accuracy', get_f1])\n",
        "\n",
        "print(model_fin.summary())"
      ],
      "execution_count": 102,
      "outputs": [
        {
          "output_type": "stream",
          "text": [
            "Model: \"sequential_5\"\n",
            "_________________________________________________________________\n",
            "Layer (type)                 Output Shape              Param #   \n",
            "=================================================================\n",
            "embedding_layer (Embedding)  (None, 39, 300)           1679100   \n",
            "_________________________________________________________________\n",
            "bi_lstm_layer1 (Bidirectiona (None, 32)                40576     \n",
            "_________________________________________________________________\n",
            "dense (Dense)                (None, 7)                 231       \n",
            "=================================================================\n",
            "Total params: 1,719,907\n",
            "Trainable params: 40,807\n",
            "Non-trainable params: 1,679,100\n",
            "_________________________________________________________________\n",
            "None\n"
          ],
          "name": "stdout"
        }
      ]
    },
    {
      "cell_type": "markdown",
      "metadata": {
        "id": "aEdxxRE7yO9n"
      },
      "source": [
        "### Model-2 Training"
      ]
    },
    {
      "cell_type": "code",
      "metadata": {
        "id": "zZDIAt3M0CYC"
      },
      "source": [
        "# Computing class_weights to be passed to model fit function (passing because of class imbalance)\n",
        "weights = compute_class_weight(class_weight='balanced', classes=np.unique(y_train), y=y_train)\n",
        "class_weight = dict()\n",
        "for i, weight in enumerate(weights):\n",
        "  class_weight[i] = weight"
      ],
      "execution_count": 104,
      "outputs": []
    },
    {
      "cell_type": "code",
      "metadata": {
        "colab": {
          "base_uri": "https://localhost:8080/"
        },
        "id": "mpc7IFu7yT2o",
        "outputId": "dc5006a2-ac54-49c4-d8e4-b12943f2a32e"
      },
      "source": [
        "# Fitting the model\n",
        "history = model_fin.fit(X_train_fin, y_train_encoded, batch_size=32, epochs=20, verbose=1, validation_data=(X_val_fin,y_val_encoded), class_weight=class_weight)"
      ],
      "execution_count": 106,
      "outputs": [
        {
          "output_type": "stream",
          "text": [
            "Epoch 1/20\n",
            "66/66 [==============================] - 2s 24ms/step - loss: 1.9149 - accuracy: 0.2191 - get_f1: 0.0000e+00 - val_loss: 1.8226 - val_accuracy: 0.4866 - val_get_f1: 0.0000e+00\n",
            "Epoch 2/20\n",
            "66/66 [==============================] - 1s 10ms/step - loss: 1.6070 - accuracy: 0.4950 - get_f1: 0.1801 - val_loss: 1.3125 - val_accuracy: 0.6398 - val_get_f1: 0.2453\n",
            "Epoch 3/20\n",
            "66/66 [==============================] - 1s 10ms/step - loss: 1.2194 - accuracy: 0.6458 - get_f1: 0.3893 - val_loss: 1.0207 - val_accuracy: 0.7241 - val_get_f1: 0.4728\n",
            "Epoch 4/20\n",
            "66/66 [==============================] - 1s 10ms/step - loss: 1.0285 - accuracy: 0.6970 - get_f1: 0.5588 - val_loss: 0.8925 - val_accuracy: 0.7433 - val_get_f1: 0.6311\n",
            "Epoch 5/20\n",
            "66/66 [==============================] - 1s 10ms/step - loss: 0.8624 - accuracy: 0.7473 - get_f1: 0.6979 - val_loss: 0.7999 - val_accuracy: 0.7586 - val_get_f1: 0.7644\n",
            "Epoch 6/20\n",
            "66/66 [==============================] - 1s 10ms/step - loss: 0.7531 - accuracy: 0.7624 - get_f1: 0.7462 - val_loss: 0.7657 - val_accuracy: 0.7548 - val_get_f1: 0.7774\n",
            "Epoch 7/20\n",
            "66/66 [==============================] - 1s 10ms/step - loss: 0.6567 - accuracy: 0.7790 - get_f1: 0.7576 - val_loss: 0.7458 - val_accuracy: 0.7893 - val_get_f1: 0.7902\n",
            "Epoch 8/20\n",
            "66/66 [==============================] - 1s 10ms/step - loss: 0.6321 - accuracy: 0.7866 - get_f1: 0.7796 - val_loss: 0.7263 - val_accuracy: 0.7625 - val_get_f1: 0.7764\n",
            "Epoch 9/20\n",
            "66/66 [==============================] - 1s 10ms/step - loss: 0.5902 - accuracy: 0.7918 - get_f1: 0.7863 - val_loss: 0.6764 - val_accuracy: 0.7931 - val_get_f1: 0.7927\n",
            "Epoch 10/20\n",
            "66/66 [==============================] - 1s 10ms/step - loss: 0.5467 - accuracy: 0.8103 - get_f1: 0.8061 - val_loss: 0.6246 - val_accuracy: 0.7969 - val_get_f1: 0.8182\n",
            "Epoch 11/20\n",
            "66/66 [==============================] - 1s 10ms/step - loss: 0.5096 - accuracy: 0.8212 - get_f1: 0.8122 - val_loss: 0.6334 - val_accuracy: 0.7931 - val_get_f1: 0.7898\n",
            "Epoch 12/20\n",
            "66/66 [==============================] - 1s 10ms/step - loss: 0.4826 - accuracy: 0.8231 - get_f1: 0.8116 - val_loss: 0.6506 - val_accuracy: 0.8046 - val_get_f1: 0.8202\n",
            "Epoch 13/20\n",
            "66/66 [==============================] - 1s 10ms/step - loss: 0.4627 - accuracy: 0.8326 - get_f1: 0.8312 - val_loss: 0.6261 - val_accuracy: 0.8084 - val_get_f1: 0.8163\n",
            "Epoch 14/20\n",
            "66/66 [==============================] - 1s 10ms/step - loss: 0.4271 - accuracy: 0.8336 - get_f1: 0.8375 - val_loss: 0.6012 - val_accuracy: 0.7969 - val_get_f1: 0.8177\n",
            "Epoch 15/20\n",
            "66/66 [==============================] - 1s 10ms/step - loss: 0.4470 - accuracy: 0.8269 - get_f1: 0.8284 - val_loss: 0.5798 - val_accuracy: 0.8161 - val_get_f1: 0.8286\n",
            "Epoch 16/20\n",
            "66/66 [==============================] - 1s 10ms/step - loss: 0.4205 - accuracy: 0.8440 - get_f1: 0.8389 - val_loss: 0.5922 - val_accuracy: 0.8046 - val_get_f1: 0.8206\n",
            "Epoch 17/20\n",
            "66/66 [==============================] - 1s 10ms/step - loss: 0.4095 - accuracy: 0.8416 - get_f1: 0.8427 - val_loss: 0.5703 - val_accuracy: 0.8199 - val_get_f1: 0.8254\n",
            "Epoch 18/20\n",
            "66/66 [==============================] - 1s 10ms/step - loss: 0.3853 - accuracy: 0.8525 - get_f1: 0.8475 - val_loss: 0.5900 - val_accuracy: 0.8123 - val_get_f1: 0.8307\n",
            "Epoch 19/20\n",
            "66/66 [==============================] - 1s 10ms/step - loss: 0.3726 - accuracy: 0.8563 - get_f1: 0.8574 - val_loss: 0.5786 - val_accuracy: 0.8199 - val_get_f1: 0.8264\n",
            "Epoch 20/20\n",
            "66/66 [==============================] - 1s 10ms/step - loss: 0.3872 - accuracy: 0.8511 - get_f1: 0.8569 - val_loss: 0.5611 - val_accuracy: 0.8161 - val_get_f1: 0.8313\n"
          ],
          "name": "stdout"
        }
      ]
    },
    {
      "cell_type": "markdown",
      "metadata": {
        "id": "Ew2z9c9iAR94"
      },
      "source": [
        "### Model-2 Performance Evaluation"
      ]
    },
    {
      "cell_type": "code",
      "metadata": {
        "colab": {
          "base_uri": "https://localhost:8080/",
          "height": 573
        },
        "id": "AL8sahLxAfvu",
        "outputId": "ccd33053-edae-486e-d374-a3ddb7dda829"
      },
      "source": [
        "# Plotting the model performance\n",
        "plt.plot(history.history['get_f1'])\n",
        "plt.plot(history.history['val_get_f1'])\n",
        "\n",
        "plt.title('model f1 score')\n",
        "plt.ylabel('f1 score')\n",
        "plt.xlabel('epoch')\n",
        "plt.legend(['train','val'], loc='upper left')\n",
        "plt.show()\n",
        "\n",
        "plt.plot(history.history['loss'])\n",
        "plt.plot(history.history['val_loss'])\n",
        "\n",
        "plt.title('model loss')\n",
        "plt.ylabel('loss')\n",
        "plt.xlabel('epoch')\n",
        "plt.legend(['train','val'], loc='upper left')\n",
        "plt.show()"
      ],
      "execution_count": 114,
      "outputs": [
        {
          "output_type": "display_data",
          "data": {
            "image/png": "[encoded data removed]",
            "text/plain": [
              "<Figure size 432x288 with 1 Axes>"
            ]
          },
          "metadata": {
            "tags": [],
            "needs_background": "light"
          }
        },
        {
          "output_type": "display_data",
          "data": {
            "image/png": "[encoded data removed]",
            "text/plain": [
              "<Figure size 432x288 with 1 Axes>"
            ]
          },
          "metadata": {
            "tags": [],
            "needs_background": "light"
          }
        }
      ]
    },
    {
      "cell_type": "code",
      "metadata": {
        "colab": {
          "base_uri": "https://localhost:8080/"
        },
        "id": "_CzSo2ekzuSO",
        "outputId": "b0442087-e566-479c-e0dd-d77b06588dbd"
      },
      "source": [
        "# Model performance on training data\n",
        "print(classification_report(y_true = y_train,y_pred = model_fin.predict_classes(X_train_fin)))\n",
        "print(confusion_matrix(y_true = y_train,y_pred = model_fin.predict_classes(X_train_fin)))"
      ],
      "execution_count": 113,
      "outputs": [
        {
          "output_type": "stream",
          "text": [
            "              precision    recall  f1-score   support\n",
            "\n",
            "           0       0.83      1.00      0.91        68\n",
            "           1       0.92      0.93      0.92       301\n",
            "           2       0.87      1.00      0.93        66\n",
            "           3       0.98      0.95      0.96       541\n",
            "           4       0.90      0.91      0.90       370\n",
            "           5       0.86      0.89      0.87       283\n",
            "           6       0.90      0.86      0.88       480\n",
            "\n",
            "    accuracy                           0.91      2109\n",
            "   macro avg       0.89      0.93      0.91      2109\n",
            "weighted avg       0.91      0.91      0.91      2109\n",
            "\n",
            "[[ 68   0   0   0   0   0   0]\n",
            " [  2 279   0   2   4   6   8]\n",
            " [  0   0  66   0   0   0   0]\n",
            " [  2   2   3 512   7   1  14]\n",
            " [  6   4   4   1 335   8  12]\n",
            " [  2  12   0   2   3 251  13]\n",
            " [  2   7   3   6  24  26 412]]\n"
          ],
          "name": "stdout"
        }
      ]
    },
    {
      "cell_type": "code",
      "metadata": {
        "colab": {
          "base_uri": "https://localhost:8080/"
        },
        "id": "cjbP_2m8zuDL",
        "outputId": "cbdef6fe-f3bf-474f-ec4e-55a97ba4a4e9"
      },
      "source": [
        "# Model performance on test data\n",
        "print(classification_report(y_true = y_test,y_pred = model_fin.predict_classes(X_test_fin)))\n",
        "print(confusion_matrix(y_true = y_test,y_pred = model_fin.predict_classes(X_test_fin)))"
      ],
      "execution_count": 116,
      "outputs": [
        {
          "output_type": "stream",
          "text": [
            "              precision    recall  f1-score   support\n",
            "\n",
            "           0       0.64      0.88      0.74         8\n",
            "           1       0.88      0.92      0.90        38\n",
            "           2       0.70      0.88      0.78         8\n",
            "           3       1.00      0.90      0.95        68\n",
            "           4       0.71      0.91      0.80        46\n",
            "           5       0.71      0.67      0.69        36\n",
            "           6       0.84      0.68      0.75        60\n",
            "\n",
            "    accuracy                           0.82       264\n",
            "   macro avg       0.78      0.83      0.80       264\n",
            "weighted avg       0.83      0.82      0.82       264\n",
            "\n",
            "[[ 7  0  0  0  1  0  0]\n",
            " [ 0 35  0  0  1  1  1]\n",
            " [ 1  0  7  0  0  0  0]\n",
            " [ 2  0  1 61  2  0  2]\n",
            " [ 1  0  1  0 42  1  1]\n",
            " [ 0  2  0  0  6 24  4]\n",
            " [ 0  3  1  0  7  8 41]]\n"
          ],
          "name": "stdout"
        }
      ]
    },
    {
      "cell_type": "markdown",
      "metadata": {
        "id": "NGa3Oc4ZBr9N"
      },
      "source": [
        "### Persisting Model-2 (for later use)"
      ]
    },
    {
      "cell_type": "code",
      "metadata": {
        "colab": {
          "base_uri": "https://localhost:8080/"
        },
        "id": "e1NOAPJxBq3W",
        "outputId": "7d13f833-a077-48f6-9cc9-2a2f3642d6c6"
      },
      "source": [
        "# Persisting tokenizer\n",
        "with open('tokenizer.dill','wb') as f:\n",
        "    dill.dump(tokenizer, f)\n",
        "\n",
        "# Persisting Label Encoder\n",
        "with open('encoder.dill','wb') as f:\n",
        "    dill.dump(encoder, f)\n",
        "\n",
        "# Persisting lemmatizer\n",
        "with open('lemmatizer.dill','wb') as f:\n",
        "    dill.dump(lemmatizer, f)\n",
        "\n",
        "# Persisting model \n",
        "model_fin.save('bi-lstm')"
      ],
      "execution_count": 117,
      "outputs": [
        {
          "output_type": "stream",
          "text": [
            "WARNING:tensorflow:From /usr/local/lib/python3.6/dist-packages/tensorflow/python/training/tracking/tracking.py:111: Model.state_updates (from tensorflow.python.keras.engine.training) is deprecated and will be removed in a future version.\n",
            "Instructions for updating:\n",
            "This property should not be used in TensorFlow 2.0, as updates are applied automatically.\n",
            "WARNING:tensorflow:From /usr/local/lib/python3.6/dist-packages/tensorflow/python/training/tracking/tracking.py:111: Layer.updates (from tensorflow.python.keras.engine.base_layer) is deprecated and will be removed in a future version.\n",
            "Instructions for updating:\n",
            "This property should not be used in TensorFlow 2.0, as updates are applied automatically.\n",
            "INFO:tensorflow:Assets written to: bi-lstm/assets\n"
          ],
          "name": "stdout"
        }
      ]
    },
    {
      "cell_type": "code",
      "metadata": {
        "id": "oRzfnw33Bq6j"
      },
      "source": [
        "# Command for loading saved model\n",
        "# reloaded_model = load_model('bi-lstm', custom_objects= {'get_f1': get_f1})"
      ],
      "execution_count": 119,
      "outputs": []
    },
    {
      "cell_type": "markdown",
      "metadata": {
        "id": "bVUQjQSMUgei"
      },
      "source": [
        "## Model-3 (BERT-Uncased fine-tuned for Text Classification) "
      ]
    },
    {
      "cell_type": "code",
      "metadata": {
        "id": "jaPJyWp7en8l",
        "colab": {
          "base_uri": "https://localhost:8080/"
        },
        "outputId": "93558091-2f1e-4dd4-af53-4ecd82423f93"
      },
      "source": [
        "print(\"Train data shape: X = {}, y = {}\".format(X_train.shape, y_train.shape))\n",
        "print(\"Validation data shape: X = {}, y = {}\".format(X_val.shape, y_val.shape))\n",
        "print(\"Test data shape: X = {}, y = {}\".format(X_test.shape, y_test.shape))"
      ],
      "execution_count": 141,
      "outputs": [
        {
          "output_type": "stream",
          "text": [
            "Train data shape: X = (2109,), y = (2109,)\n",
            "Validation data shape: X = (261,), y = (261,)\n",
            "Test data shape: X = (264,), y = (264,)\n"
          ],
          "name": "stdout"
        }
      ]
    },
    {
      "cell_type": "markdown",
      "metadata": {
        "id": "ELjswHcFHfp3"
      },
      "source": [
        "### Create tf.data.Datasets for Training and Evaluation"
      ]
    },
    {
      "cell_type": "code",
      "metadata": {
        "id": "qQYMGT5_qLPX"
      },
      "source": [
        "with tf.device('/cpu:0'):\n",
        "  train_data = tf.data.Dataset.from_tensor_slices((X_train, y_train))\n",
        "  valid_data = tf.data.Dataset.from_tensor_slices((X_val, y_val))\n",
        "  test_data = tf.data.Dataset.from_tensor_slices((X_test, y_test))"
      ],
      "execution_count": 143,
      "outputs": []
    },
    {
      "cell_type": "code",
      "metadata": {
        "id": "n6aOAYKyspot",
        "colab": {
          "base_uri": "https://localhost:8080/"
        },
        "outputId": "e0875926-4b32-43b5-9933-98b2cc52598c"
      },
      "source": [
        "# Data check\n",
        "for text,label in train_data.take(1):\n",
        "  print(text)\n",
        "  print(label)"
      ],
      "execution_count": 144,
      "outputs": [
        {
          "output_type": "stream",
          "text": [
            "tf.Tensor(b'central bank of india recruitment job alert fresh vacancy announced check detail', shape=(), dtype=string)\n",
            "tf.Tensor(2, shape=(), dtype=int64)\n"
          ],
          "name": "stdout"
        }
      ]
    },
    {
      "cell_type": "markdown",
      "metadata": {
        "id": "e2-ReN88Hvy_"
      },
      "source": [
        "### Fetching Pre-trained BERT Uncased Model from TensorFlow Hub"
      ]
    },
    {
      "cell_type": "code",
      "metadata": {
        "id": "EMb5M86b4-BU"
      },
      "source": [
        "\"\"\"\n",
        "- Input data needs to be transformed to BERT input features:\n",
        "input_word_ids, input_mask, segment_ids\n",
        "- BERT model tokenizer is used to tokenize the input data\n",
        "\"\"\"\n",
        "\n",
        "label_list = [0,1,2,3,4,5,6] # Label categories\n",
        "max_seq_length = 39 # maximum length of (token) input sequences\n",
        "train_batch_size = 32\n",
        "\n",
        "\n",
        "# Fetching BERT layer and tokenizer:\n",
        "bert_layer = hub.KerasLayer('https://tfhub.dev/tensorflow/bert_en_uncased_L-12_H-768_A-12/2', trainable=True)\n",
        "\n",
        "# Fetching BERT tokenizer's vocabulary file\n",
        "vocab_file = bert_layer.resolved_object.vocab_file.asset_path.numpy()\n",
        "do_lower_case = bert_layer.resolved_object.do_lower_case.numpy()\n",
        "tokenizer = tokenization.FullTokenizer(vocab_file, do_lower_case)"
      ],
      "execution_count": 145,
      "outputs": []
    },
    {
      "cell_type": "markdown",
      "metadata": {
        "id": "yoc3q9137wuH"
      },
      "source": [
        "### Tokenize and Preprocess Text for BERT"
      ]
    },
    {
      "cell_type": "code",
      "metadata": {
        "id": "5AFsmTO5JSmc"
      },
      "source": [
        "# Function to convert row to BERT input features and label\n",
        "\n",
        "def to_feature(text, label, label_list=label_list, max_seq_length=max_seq_length, tokenizer=tokenizer):\n",
        "  example = classifier_data_lib.InputExample(guid=None, text_a = text.numpy(), text_b = None, label=label.numpy())\n",
        "  feature = classifier_data_lib.convert_single_example(0, example, label_list, max_seq_length, tokenizer)\n",
        "\n",
        "  return (feature.input_ids, feature.input_mask, feature.segment_ids, feature.label_id)"
      ],
      "execution_count": 146,
      "outputs": []
    },
    {
      "cell_type": "code",
      "metadata": {
        "id": "otpvry8iIQUY"
      },
      "source": [
        "# Wrapper function; needed to apply to_feature() to each element of the input data\n",
        "def to_feature_map(text, label):\n",
        "  input_ids, input_mask, segment_ids, label_id = tf.py_function(to_feature, inp=[text, label],\n",
        "                                                                Tout=[tf.int32, tf.int32, tf.int32, tf.int32])\n",
        "  input_ids.set_shape([max_seq_length])\n",
        "  input_mask.set_shape([max_seq_length])\n",
        "  segment_ids.set_shape([max_seq_length])\n",
        "  label_id.set_shape([])\n",
        "\n",
        "  x = {\n",
        "      'input_word_ids': input_ids,\n",
        "       'input_mask': input_mask,\n",
        "       'input_type_ids': segment_ids\n",
        "\n",
        "  }\n",
        "\n",
        "  return (x, label_id)"
      ],
      "execution_count": 147,
      "outputs": []
    },
    {
      "cell_type": "markdown",
      "metadata": {
        "id": "dhdO6MjTbtn1"
      },
      "source": [
        "### Creating TensorFlow Input Pipeline with `tf.data`"
      ]
    },
    {
      "cell_type": "code",
      "metadata": {
        "id": "LHRdiO3dnPNr"
      },
      "source": [
        "with tf.device('/cpu:0'):\n",
        "  # train\n",
        "  train_data = (train_data.map(to_feature_map,\n",
        "                               num_parallel_calls=tf.data.experimental.AUTOTUNE)\n",
        "  .shuffle(500)\n",
        "  .batch(32) # , drop_remainder=True\n",
        "  .prefetch(tf.data.experimental.AUTOTUNE)) # pre-fetching input data for pre-processing to optimize runtime and resource utilization\n",
        "\n",
        "  # valid\n",
        "  valid_data = (valid_data.map(to_feature_map,\n",
        "                               num_parallel_calls=tf.data.experimental.AUTOTUNE)\n",
        "  .batch(32) # , drop_remainder=True\n",
        "  .prefetch(tf.data.experimental.AUTOTUNE))\n",
        "\n",
        "  # test\n",
        "  test_data = (test_data.map(to_feature_map,\n",
        "                               num_parallel_calls=tf.data.experimental.AUTOTUNE)\n",
        "  .batch(32) # , drop_remainder=True\n",
        "  .prefetch(tf.data.experimental.AUTOTUNE))\n",
        "  "
      ],
      "execution_count": 148,
      "outputs": []
    },
    {
      "cell_type": "code",
      "metadata": {
        "id": "B0Z2cy9GHQ8x",
        "colab": {
          "base_uri": "https://localhost:8080/"
        },
        "outputId": "b74749c4-5fe5-4f17-aa3e-a6fd9f6df7de"
      },
      "source": [
        "# train data spec\n",
        "train_data.element_spec"
      ],
      "execution_count": 149,
      "outputs": [
        {
          "output_type": "execute_result",
          "data": {
            "text/plain": [
              "({'input_mask': TensorSpec(shape=(None, 39), dtype=tf.int32, name=None),\n",
              "  'input_type_ids': TensorSpec(shape=(None, 39), dtype=tf.int32, name=None),\n",
              "  'input_word_ids': TensorSpec(shape=(None, 39), dtype=tf.int32, name=None)},\n",
              " TensorSpec(shape=(None,), dtype=tf.int32, name=None))"
            ]
          },
          "metadata": {
            "tags": []
          },
          "execution_count": 149
        }
      ]
    },
    {
      "cell_type": "code",
      "metadata": {
        "id": "DGAH-ycYOmao",
        "colab": {
          "base_uri": "https://localhost:8080/"
        },
        "outputId": "3f998a7d-8643-4d96-8b20-d47e1df000f4"
      },
      "source": [
        "# valid data spec\n",
        "valid_data.element_spec"
      ],
      "execution_count": 150,
      "outputs": [
        {
          "output_type": "execute_result",
          "data": {
            "text/plain": [
              "({'input_mask': TensorSpec(shape=(None, 39), dtype=tf.int32, name=None),\n",
              "  'input_type_ids': TensorSpec(shape=(None, 39), dtype=tf.int32, name=None),\n",
              "  'input_word_ids': TensorSpec(shape=(None, 39), dtype=tf.int32, name=None)},\n",
              " TensorSpec(shape=(None,), dtype=tf.int32, name=None))"
            ]
          },
          "metadata": {
            "tags": []
          },
          "execution_count": 150
        }
      ]
    },
    {
      "cell_type": "code",
      "metadata": {
        "id": "NcJzeay9iIFD",
        "colab": {
          "base_uri": "https://localhost:8080/"
        },
        "outputId": "fe031980-1b66-4328-954a-5b86bb2aa266"
      },
      "source": [
        "# test data spec\n",
        "test_data.element_spec"
      ],
      "execution_count": 151,
      "outputs": [
        {
          "output_type": "execute_result",
          "data": {
            "text/plain": [
              "({'input_mask': TensorSpec(shape=(None, 39), dtype=tf.int32, name=None),\n",
              "  'input_type_ids': TensorSpec(shape=(None, 39), dtype=tf.int32, name=None),\n",
              "  'input_word_ids': TensorSpec(shape=(None, 39), dtype=tf.int32, name=None)},\n",
              " TensorSpec(shape=(None,), dtype=tf.int32, name=None))"
            ]
          },
          "metadata": {
            "tags": []
          },
          "execution_count": 151
        }
      ]
    },
    {
      "cell_type": "markdown",
      "metadata": {
        "id": "GZxe-7yhPyQe"
      },
      "source": [
        "### Adding a Classification Head to the BERT Layer"
      ]
    },
    {
      "cell_type": "code",
      "metadata": {
        "id": "G9il4gtlADcp"
      },
      "source": [
        "# Building the model\n",
        "def create_model():\n",
        "  input_word_ids = tf.keras.layers.Input(shape=(max_seq_length,), dtype=tf.int32,\n",
        "                                       name=\"input_word_ids\")\n",
        "  input_mask = tf.keras.layers.Input(shape=(max_seq_length,), dtype=tf.int32,\n",
        "                                   name=\"input_mask\")\n",
        "  input_type_ids = tf.keras.layers.Input(shape=(max_seq_length,), dtype=tf.int32,\n",
        "                                    name=\"input_type_ids\")\n",
        "  \n",
        "  pooled_output, sequence_output = bert_layer([input_word_ids, input_mask, input_type_ids])\n",
        "\n",
        "  # Using pooled output from BERT layer \n",
        "  drop = tf.keras.layers.Dropout(0.4)(pooled_output) # Dropout layer to avoid overfitting\n",
        "  output = tf.keras.layers.Dense(7, activation='softmax', name='output')(drop) # Classification layer\n",
        "\n",
        "  model = tf.keras.Model(\n",
        "      inputs={\n",
        "          'input_word_ids': input_word_ids,\n",
        "          'input_mask': input_mask,\n",
        "          'input_type_ids': input_type_ids\n",
        "      },\n",
        "      outputs=output\n",
        "  )\n",
        "  return model"
      ],
      "execution_count": 152,
      "outputs": []
    },
    {
      "cell_type": "markdown",
      "metadata": {
        "id": "S6maM-vr7YaJ"
      },
      "source": [
        "### Fine-Tuning BERT for Multi-Class Text Classification"
      ]
    },
    {
      "cell_type": "code",
      "metadata": {
        "id": "ptCtiiONsBgo",
        "colab": {
          "base_uri": "https://localhost:8080/"
        },
        "outputId": "a5aa9e4b-57c6-4ad0-eb04-17c5a7759496"
      },
      "source": [
        "# Creating model\n",
        "model = create_model()\n",
        "\n",
        "# Using Sparse Categorical Cross Entropy loss as the input target labels are being passed as integers\n",
        "model.compile(optimizer=tf.keras.optimizers.Adam(learning_rate=2e-5),\n",
        "              loss=tf.keras.losses.SparseCategoricalCrossentropy(),\n",
        "              metrics=['sparse_categorical_accuracy'])\n",
        "model.summary()"
      ],
      "execution_count": 176,
      "outputs": [
        {
          "output_type": "stream",
          "text": [
            "Model: \"functional_7\"\n",
            "__________________________________________________________________________________________________\n",
            "Layer (type)                    Output Shape         Param #     Connected to                     \n",
            "==================================================================================================\n",
            "input_word_ids (InputLayer)     [(None, 39)]         0                                            \n",
            "__________________________________________________________________________________________________\n",
            "input_mask (InputLayer)         [(None, 39)]         0                                            \n",
            "__________________________________________________________________________________________________\n",
            "input_type_ids (InputLayer)     [(None, 39)]         0                                            \n",
            "__________________________________________________________________________________________________\n",
            "keras_layer (KerasLayer)        [(None, 768), (None, 109482241   input_word_ids[0][0]             \n",
            "                                                                 input_mask[0][0]                 \n",
            "                                                                 input_type_ids[0][0]             \n",
            "__________________________________________________________________________________________________\n",
            "dropout_3 (Dropout)             (None, 768)          0           keras_layer[3][0]                \n",
            "__________________________________________________________________________________________________\n",
            "output (Dense)                  (None, 7)            5383        dropout_3[0][0]                  \n",
            "==================================================================================================\n",
            "Total params: 109,487,624\n",
            "Trainable params: 109,487,623\n",
            "Non-trainable params: 1\n",
            "__________________________________________________________________________________________________\n"
          ],
          "name": "stdout"
        }
      ]
    },
    {
      "cell_type": "code",
      "metadata": {
        "id": "6GJaFnkbMtPL",
        "colab": {
          "base_uri": "https://localhost:8080/",
          "height": 338
        },
        "outputId": "f84c73d5-cfe3-4e24-e999-066dff04cb7b"
      },
      "source": [
        "# Plotting the model\n",
        "tf.keras.utils.plot_model(model=model, show_shapes=True, dpi=76)"
      ],
      "execution_count": 177,
      "outputs": [
        {
          "output_type": "execute_result",
          "data": {
            "image/png": "[encoded data removed]",
            "text/plain": [
              "<IPython.core.display.Image object>"
            ]
          },
          "metadata": {
            "tags": []
          },
          "execution_count": 177
        }
      ]
    },
    {
      "cell_type": "code",
      "metadata": {
        "id": "OcREcgPUHr9O",
        "colab": {
          "base_uri": "https://localhost:8080/"
        },
        "outputId": "72139578-c0a6-41f1-ca29-31916d442003"
      },
      "source": [
        "# Model training\n",
        "epochs = 2\n",
        "history = model.fit(train_data,\n",
        "                    validation_data=valid_data,\n",
        "                    epochs=epochs,\n",
        "                    verbose=1)"
      ],
      "execution_count": 178,
      "outputs": [
        {
          "output_type": "stream",
          "text": [
            "Epoch 1/2\n",
            "66/66 [==============================] - 12s 180ms/step - loss: 0.3263 - sparse_categorical_accuracy: 0.9208 - val_loss: 0.5141 - val_sparse_categorical_accuracy: 0.8812\n",
            "Epoch 2/2\n",
            "66/66 [==============================] - 11s 170ms/step - loss: 0.0627 - sparse_categorical_accuracy: 0.9862 - val_loss: 0.5201 - val_sparse_categorical_accuracy: 0.8966\n"
          ],
          "name": "stdout"
        }
      ]
    },
    {
      "cell_type": "markdown",
      "metadata": {
        "id": "kNZl1lx_cA5Y"
      },
      "source": [
        "### Model-3 Performance evaluation"
      ]
    },
    {
      "cell_type": "code",
      "metadata": {
        "id": "dCjgrUYH_IsE"
      },
      "source": [
        "import matplotlib.pyplot as plt\n",
        "\n",
        "def plot_graphs(history, metric):\n",
        "  plt.plot(history.history[metric])\n",
        "  plt.plot(history.history['val_'+metric], '')\n",
        "  plt.xlabel(\"Epochs\")\n",
        "  plt.ylabel(metric)\n",
        "  plt.legend([metric, 'val_'+metric])\n",
        "  plt.show()"
      ],
      "execution_count": 179,
      "outputs": []
    },
    {
      "cell_type": "code",
      "metadata": {
        "id": "v6lrFRra_KmA",
        "colab": {
          "base_uri": "https://localhost:8080/",
          "height": 279
        },
        "outputId": "d372e88a-8ee1-492e-ea18-0bee3cd23968"
      },
      "source": [
        "plot_graphs(history, 'loss')"
      ],
      "execution_count": 180,
      "outputs": [
        {
          "output_type": "display_data",
          "data": {
            "image/png": "[encoded data removed]",
            "text/plain": [
              "<Figure size 432x288 with 1 Axes>"
            ]
          },
          "metadata": {
            "tags": [],
            "needs_background": "light"
          }
        }
      ]
    },
    {
      "cell_type": "code",
      "metadata": {
        "id": "opu9neBA_98R",
        "colab": {
          "base_uri": "https://localhost:8080/",
          "height": 279
        },
        "outputId": "5212431d-b574-4e42-af48-c3341580805c"
      },
      "source": [
        "plot_graphs(history, 'sparse_categorical_accuracy')"
      ],
      "execution_count": 181,
      "outputs": [
        {
          "output_type": "display_data",
          "data": {
            "image/png": "[encoded data removed]",
            "text/plain": [
              "<Figure size 432x288 with 1 Axes>"
            ]
          },
          "metadata": {
            "tags": [],
            "needs_background": "light"
          }
        }
      ]
    },
    {
      "cell_type": "code",
      "metadata": {
        "id": "QeowOKpAjvkH",
        "colab": {
          "base_uri": "https://localhost:8080/"
        },
        "outputId": "3130d70f-03cb-487b-9675-8c216d73138f"
      },
      "source": [
        "# Validation set performance\n",
        "targ = []\n",
        "for example in valid_data:\n",
        "  for i in example[1]:\n",
        "    targ.append(i.numpy())\n",
        "print(len(targ))"
      ],
      "execution_count": 182,
      "outputs": [
        {
          "output_type": "stream",
          "text": [
            "261\n"
          ],
          "name": "stdout"
        }
      ]
    },
    {
      "cell_type": "code",
      "metadata": {
        "id": "LqYGebqvlCTx"
      },
      "source": [
        "val_pred = model.predict(valid_data)\n",
        "valid_class = [np.argmax(pred) for pred in val_pred]"
      ],
      "execution_count": 184,
      "outputs": []
    },
    {
      "cell_type": "code",
      "metadata": {
        "id": "Vf1UjtkdjvnY",
        "colab": {
          "base_uri": "https://localhost:8080/"
        },
        "outputId": "100a877c-cc64-464f-9743-c207e136d058"
      },
      "source": [
        "print(classification_report(y_true = targ,y_pred = valid_class))\n",
        "print(confusion_matrix(y_true = targ,y_pred = valid_class))"
      ],
      "execution_count": 186,
      "outputs": [
        {
          "output_type": "stream",
          "text": [
            "              precision    recall  f1-score   support\n",
            "\n",
            "           0       1.00      0.62      0.77         8\n",
            "           1       0.94      0.89      0.92        37\n",
            "           2       0.80      1.00      0.89         8\n",
            "           3       0.94      0.90      0.92        67\n",
            "           4       0.88      0.93      0.91        46\n",
            "           5       0.86      0.86      0.86        35\n",
            "           6       0.87      0.92      0.89        60\n",
            "\n",
            "    accuracy                           0.90       261\n",
            "   macro avg       0.90      0.87      0.88       261\n",
            "weighted avg       0.90      0.90      0.90       261\n",
            "\n",
            "[[ 5  0  2  1  0  0  0]\n",
            " [ 0 33  0  1  1  1  1]\n",
            " [ 0  0  8  0  0  0  0]\n",
            " [ 0  2  0 60  2  1  2]\n",
            " [ 0  0  0  0 43  1  2]\n",
            " [ 0  0  0  0  2 30  3]\n",
            " [ 0  0  0  2  1  2 55]]\n"
          ],
          "name": "stdout"
        }
      ]
    },
    {
      "cell_type": "code",
      "metadata": {
        "id": "8NJhVcyVnHLY",
        "colab": {
          "base_uri": "https://localhost:8080/"
        },
        "outputId": "ab264992-52be-4ee4-f2fe-50ff2ced77cd"
      },
      "source": [
        "from sklearn.metrics import balanced_accuracy_score\n",
        "\n",
        "balanced_accuracy_score(targ, valid_class)"
      ],
      "execution_count": 187,
      "outputs": [
        {
          "output_type": "execute_result",
          "data": {
            "text/plain": [
              "0.8744294874938242"
            ]
          },
          "metadata": {
            "tags": []
          },
          "execution_count": 187
        }
      ]
    },
    {
      "cell_type": "code",
      "metadata": {
        "id": "47Ja2GDBneHg",
        "colab": {
          "base_uri": "https://localhost:8080/"
        },
        "outputId": "b3cc3a2f-69ec-4f12-95d9-afbfb3a1e38f"
      },
      "source": [
        "# Test set performance\n",
        "test_targ = []\n",
        "for example in test_data:\n",
        "  for i in example[1]:\n",
        "    test_targ.append(i.numpy())\n",
        "print(len(test_targ))"
      ],
      "execution_count": 188,
      "outputs": [
        {
          "output_type": "stream",
          "text": [
            "264\n"
          ],
          "name": "stdout"
        }
      ]
    },
    {
      "cell_type": "code",
      "metadata": {
        "id": "g9KB4mnNneMr"
      },
      "source": [
        "test_pred = model.predict(test_data)\n",
        "test_class = [np.argmax(pred) for pred in test_pred]"
      ],
      "execution_count": 189,
      "outputs": []
    },
    {
      "cell_type": "code",
      "metadata": {
        "id": "IVOXIjekneQQ",
        "colab": {
          "base_uri": "https://localhost:8080/"
        },
        "outputId": "80b578cc-cb36-4460-856d-5508fd99fdae"
      },
      "source": [
        "print(classification_report(y_true = test_targ,y_pred = test_class))\n",
        "print(confusion_matrix(y_true = test_targ,y_pred = test_class))\n",
        "print(balanced_accuracy_score(test_targ, test_class))"
      ],
      "execution_count": 190,
      "outputs": [
        {
          "output_type": "stream",
          "text": [
            "              precision    recall  f1-score   support\n",
            "\n",
            "           0       0.86      0.75      0.80         8\n",
            "           1       0.92      0.87      0.89        38\n",
            "           2       1.00      1.00      1.00         8\n",
            "           3       0.95      0.93      0.94        68\n",
            "           4       0.87      0.87      0.87        46\n",
            "           5       0.66      0.81      0.73        36\n",
            "           6       0.79      0.75      0.77        60\n",
            "\n",
            "    accuracy                           0.85       264\n",
            "   macro avg       0.86      0.85      0.86       264\n",
            "weighted avg       0.85      0.85      0.85       264\n",
            "\n",
            "[[ 6  0  0  0  1  1  0]\n",
            " [ 0 33  0  1  1  1  2]\n",
            " [ 0  0  8  0  0  0  0]\n",
            " [ 1  0  0 63  1  0  3]\n",
            " [ 0  1  0  1 40  2  2]\n",
            " [ 0  1  0  0  1 29  5]\n",
            " [ 0  1  0  1  2 11 45]]\n",
            "0.8528589162591047\n"
          ],
          "name": "stdout"
        }
      ]
    },
    {
      "cell_type": "markdown",
      "metadata": {
        "id": "9KKNPP1kiod9"
      },
      "source": [
        "### Function for incoming data prediction"
      ]
    },
    {
      "cell_type": "code",
      "metadata": {
        "id": "sJS0WWUfineK"
      },
      "source": [
        "# Function for predicting news category basis incoming News Title (see example at bottom of this cell to see how to invoke the function (input: string))\n",
        "def pred_news_category(title):\n",
        "  text = np.array([title])\n",
        "  pred_data = tf.data.Dataset.from_tensor_slices((text, [0]*len(text)))\n",
        "  pred_data = (pred_data.map(to_feature_map).batch(1))\n",
        "  preds = model.predict(pred_data)\n",
        "  predicted_class = [np.argmax(pred) for pred in preds]\n",
        "  return categories.loc[categories['id'] == encoder.classes_[predicted_class[0]],'category'].values[0]\n",
        "\n",
        "# pred_news_category('fairfield by marriott xae open it th property worldwide with newest location in denver the mile high city')"
      ],
      "execution_count": 215,
      "outputs": []
    },
    {
      "cell_type": "code",
      "metadata": {
        "id": "ucj3eeFSpPHk",
        "colab": {
          "base_uri": "https://localhost:8080/"
        },
        "outputId": "a6a404d6-b79b-4bda-cf32-9a2fa9d98297"
      },
      "source": [
        "# Saving model\n",
        "export_dir = './bert_model'\n",
        "model.save(export_dir)"
      ],
      "execution_count": 219,
      "outputs": [
        {
          "output_type": "stream",
          "text": [
            "INFO:tensorflow:Assets written to: ./bert_model/assets\n"
          ],
          "name": "stdout"
        },
        {
          "output_type": "stream",
          "text": [
            "INFO:tensorflow:Assets written to: ./bert_model/assets\n"
          ],
          "name": "stderr"
        }
      ]
    },
    {
      "cell_type": "code",
      "metadata": {
        "id": "MKLAd_lMpPND"
      },
      "source": [
        "# # Loading saved model (for check purposes)\n",
        "# reloaded_model = tf.keras.models.load_model(export_dir)"
      ],
      "execution_count": null,
      "outputs": []
    },
    {
      "cell_type": "code",
      "metadata": {
        "id": "Fy028UUCpPKW"
      },
      "source": [
        "# # Checking if the model has been loaded correctly\n",
        "# reloaded_preds = reloaded_model.predict(test_data)\n",
        "# reloaded_predicted_class = [np.argmax(pred) for pred in reloaded_preds]\n",
        "\n",
        "# assert test_class == reloaded_predicted_class"
      ],
      "execution_count": null,
      "outputs": []
    },
    {
      "cell_type": "code",
      "metadata": {
        "id": "aiKuBGgfJUKv"
      },
      "source": [
        "# # Compressing the saved model\n",
        "# !zip -r /content/file.zip /content/bert_model"
      ],
      "execution_count": 220,
      "outputs": []
    },
    {
      "cell_type": "code",
      "metadata": {
        "id": "zrWuPGkLZuLH",
        "colab": {
          "base_uri": "https://localhost:8080/",
          "height": 33
        },
        "outputId": "ce468a0e-afb2-43b7-e192-e274ae3a61ee"
      },
      "source": [
        "# # Downloading compressed saved model\n",
        "# from google.colab import files\n",
        "# files.download(\"/content/file.zip\")"
      ],
      "execution_count": null,
      "outputs": [
        {
          "output_type": "display_data",
          "data": {
            "application/javascript": [
              "\n",
              "    async function download(id, filename, size) {\n",
              "      if (!google.colab.kernel.accessAllowed) {\n",
              "        return;\n",
              "      }\n",
              "      const div = document.createElement('div');\n",
              "      const label = document.createElement('label');\n",
              "      label.textContent = `Downloading \"${filename}\": `;\n",
              "      div.appendChild(label);\n",
              "      const progress = document.createElement('progress');\n",
              "      progress.max = size;\n",
              "      div.appendChild(progress);\n",
              "      document.body.appendChild(div);\n",
              "\n",
              "      const buffers = [];\n",
              "      let downloaded = 0;\n",
              "\n",
              "      const channel = await google.colab.kernel.comms.open(id);\n",
              "      // Send a message to notify the kernel that we're ready.\n",
              "      channel.send({})\n",
              "\n",
              "      for await (const message of channel.messages) {\n",
              "        // Send a message to notify the kernel that we're ready.\n",
              "        channel.send({})\n",
              "        if (message.buffers) {\n",
              "          for (const buffer of message.buffers) {\n",
              "            buffers.push(buffer);\n",
              "            downloaded += buffer.byteLength;\n",
              "            progress.value = downloaded;\n",
              "          }\n",
              "        }\n",
              "      }\n",
              "      const blob = new Blob(buffers, {type: 'application/binary'});\n",
              "      const a = document.createElement('a');\n",
              "      a.href = window.URL.createObjectURL(blob);\n",
              "      a.download = filename;\n",
              "      div.appendChild(a);\n",
              "      a.click();\n",
              "      div.remove();\n",
              "    }\n",
              "  "
            ],
            "text/plain": [
              "<IPython.core.display.Javascript object>"
            ]
          },
          "metadata": {
            "tags": []
          }
        },
        {
          "output_type": "display_data",
          "data": {
            "application/javascript": [
              "download(\"download_c4b0b227-e826-434f-a403-e27458d542ae\", \"file.zip\", 1105034528)"
            ],
            "text/plain": [
              "<IPython.core.display.Javascript object>"
            ]
          },
          "metadata": {
            "tags": []
          }
        }
      ]
    }
  ]
}